{
 "cells": [
  {
   "cell_type": "code",
   "execution_count": 2,
   "id": "6f29b359-496e-42fe-b566-ff3fb311a191",
   "metadata": {},
   "outputs": [
    {
     "name": "stdin",
     "output_type": "stream",
     "text": [
      "Lutfen ogrenci sinav sonucunu giriniz:   dfggdfgfd $\n"
     ]
    },
    {
     "name": "stdout",
     "output_type": "stream",
     "text": [
      "Gecersiz veri\n"
     ]
    }
   ],
   "source": [
    "sonuc = input('Lutfen ogrenci sinav sonucunu giriniz: ')\n",
    "if not sonuc.isdigit() or  int(sonuc) > 100 or int(sonuc) < 0:\n",
    "    print('Gecersiz veri')\n",
    "else:\n",
    "    sonuc = int(sonuc)\n",
    "    if sonuc >= 85:\n",
    "        print('Pek iyi')\n",
    "        \n",
    "    elif sonuc >=70:\n",
    "        print('iyi')\n",
    "    \n",
    "    elif sonuc >=55:\n",
    "        print('orta')\n",
    "        \n",
    "    elif sonuc >= 45:\n",
    "        print('gecer')\n",
    "    \n",
    "    else:\n",
    "        print('kaldin')"
   ]
  },
  {
   "cell_type": "code",
   "execution_count": 7,
   "id": "69c6b90c-602a-4268-b063-c01d2b4737d0",
   "metadata": {},
   "outputs": [
    {
     "name": "stdin",
     "output_type": "stream",
     "text": [
      "Lutfen ogrenci sinav sonucunu giriniz:   100\n"
     ]
    },
    {
     "name": "stdout",
     "output_type": "stream",
     "text": [
      "sonuc:100\n",
      "Pek iyi\n"
     ]
    }
   ],
   "source": [
    "while True:\n",
    "    try:\n",
    "        sonuc = int(input('Lutfen ogrenci sinav sonucunu giriniz: ').strip())\n",
    "        if sonuc >100 or sonuc <0:\n",
    "            raise ValueError('not sistemi 0 ile 100 arasinda olmali! benim canim boyle istiyor')\n",
    "        else:\n",
    "            print(f'sonuc:{sonuc}')\n",
    "            if sonuc >= 85:\n",
    "                print('Pek iyi')\n",
    "            elif sonuc >=70:\n",
    "                print('iyi')\n",
    "            elif sonuc >=55:\n",
    "                print('orta')\n",
    "            elif sonuc >= 45:\n",
    "                print('gecer')\n",
    "            else:\n",
    "                print('kaldin')\n",
    "            break\n",
    "\n",
    "    except Exception as e:\n",
    "        print(f'burada istisna var: {e}')\n",
    "        flag=False\n",
    "        while True:\n",
    "            secim=input('devam icin evet yaz ya da cikis icin esc yaz: ')\n",
    "            if secim.lower()=='esc':\n",
    "                print('cikis')\n",
    "                flag=True\n",
    "                break\n",
    "\n",
    "            elif secim.lower()=='evet':\n",
    "                print('devam')\n",
    "                break \n",
    "\n",
    "            else:\n",
    "                print('arkadasim ne evet yazdin ne de esc yazdin')\n",
    "\n",
    "        if flag:\n",
    "            break"
   ]
  },
  {
   "cell_type": "code",
   "execution_count": 8,
   "id": "ea769958-b39e-4409-a69a-649c850406f2",
   "metadata": {},
   "outputs": [
    {
     "name": "stdin",
     "output_type": "stream",
     "text": [
      "buraya bir sey yaz:  42\n"
     ]
    },
    {
     "data": {
      "text/plain": [
       "str"
      ]
     },
     "execution_count": 8,
     "metadata": {},
     "output_type": "execute_result"
    }
   ],
   "source": [
    "sonuc=input('buraya bir sey yaz: ')\n",
    "type(sonuc)"
   ]
  },
  {
   "cell_type": "code",
   "execution_count": null,
   "id": "22f687ec-d0bf-46eb-b500-086bb62560d9",
   "metadata": {},
   "outputs": [],
   "source": [
    "#str, list, tuple, dict, set, int, float, bool,"
   ]
  },
  {
   "cell_type": "code",
   "execution_count": 9,
   "id": "d86434e7-8f35-4fe6-a17e-711ec8255279",
   "metadata": {},
   "outputs": [
    {
     "name": "stdout",
     "output_type": "stream",
     "text": [
      "Package                                 Version\n",
      "--------------------------------------- -----------------\n",
      "-ffi                                    1.14.5\n",
      "absl-py                                 2.1.0\n",
      "aiohappyeyeballs                        2.4.4\n",
      "aiohttp                                 3.10.11\n",
      "aiosignal                               1.3.1\n",
      "alabaster                               0.7.12\n",
      "anaconda-client                         1.7.2\n",
      "anaconda-project                        0.9.1\n",
      "annotated-types                         0.7.0\n",
      "anyio                                   4.5.2\n",
      "appdirs                                 1.4.4\n",
      "argh                                    0.26.2\n",
      "argon2-cffi                             23.1.0\n",
      "argon2-cffi-bindings                    21.2.0\n",
      "arrow                                   1.3.0\n",
      "asn1crypto                              1.4.0\n",
      "astor                                   0.8.1\n",
      "astroid                                 2.5\n",
      "astropy                                 4.2.1\n",
      "asttokens                               3.0.0\n",
      "astunparse                              1.6.3\n",
      "async-generator                         1.10\n",
      "async-lru                               2.0.4\n",
      "async-timeout                           5.0.1\n",
      "atomicwrites                            1.4.0\n",
      "attrs                                   25.1.0\n",
      "autopep8                                1.5.6\n",
      "babel                                   2.17.0\n",
      "backcall                                0.2.0\n",
      "backports.shutil-get-terminal-size      1.0.0\n",
      "bcrypt                                  3.2.0\n",
      "beautifulsoup4                          4.12.3\n",
      "bitarray                                1.9.2\n",
      "bkcharts                                0.2\n",
      "black                                   19.10b0\n",
      "bleach                                  3.3.0\n",
      "bokeh                                   2.3.2\n",
      "boto                                    2.49.0\n",
      "Bottleneck                              1.3.2\n",
      "brotlipy                                0.7.0\n",
      "cachetools                              5.5.0\n",
      "certifi                                 2024.12.14\n",
      "cffi                                    1.17.1\n",
      "chardet                                 4.0.0\n",
      "charset-normalizer                      3.4.0\n",
      "click                                   8.1.8\n",
      "cloudpickle                             1.6.0\n",
      "clyent                                  1.2.2\n",
      "colorama                                0.4.4\n",
      "comm                                    0.2.2\n",
      "comtypes                                1.1.9\n",
      "contextlib2                             0.6.0.post1\n",
      "contourpy                               1.1.1\n",
      "cryptography                            3.4.7\n",
      "cycler                                  0.10.0\n",
      "Cython                                  0.29.23\n",
      "cytoolz                                 0.11.0\n",
      "dask                                    2021.4.0\n",
      "dataclasses-json                        0.6.7\n",
      "debugpy                                 1.8.12\n",
      "decorator                               5.0.6\n",
      "defusedxml                              0.7.1\n",
      "Deprecated                              1.2.15\n",
      "diff-match-patch                        20200713\n",
      "dirtyjson                               1.0.8\n",
      "distributed                             2021.4.0\n",
      "distro                                  1.9.0\n",
      "docutils                                0.17\n",
      "duckdb                                  1.1.3\n",
      "entrypoints                             0.3\n",
      "et-xmlfile                              1.0.1\n",
      "exceptiongroup                          1.2.2\n",
      "executing                               2.2.0\n",
      "fastcache                               1.1.0\n",
      "fastjsonschema                          2.21.1\n",
      "filelock                                3.0.12\n",
      "filetype                                1.2.0\n",
      "flake8                                  3.9.0\n",
      "Flask                                   1.1.2\n",
      "flatbuffers                             24.3.25\n",
      "fonttools                               4.55.8\n",
      "fqdn                                    1.5.1\n",
      "frozendict                              2.4.6\n",
      "frozenlist                              1.5.0\n",
      "fsspec                                  2024.12.0\n",
      "future                                  0.18.2\n",
      "gast                                    0.4.0\n",
      "gevent                                  21.1.2\n",
      "glob2                                   0.7\n",
      "google-auth                             2.37.0\n",
      "google-auth-oauthlib                    0.4.6\n",
      "google-pasta                            0.2.0\n",
      "greenlet                                1.0.0\n",
      "grpcio                                  1.68.1\n",
      "h11                                     0.14.0\n",
      "h5py                                    2.10.0\n",
      "HeapDict                                1.0.1\n",
      "html5lib                                1.1\n",
      "httpcore                                1.0.7\n",
      "httpx                                   0.27.2\n",
      "huggingface-hub                         0.27.0\n",
      "idna                                    2.10\n",
      "imagecodecs                             2021.3.31\n",
      "imageio                                 2.9.0\n",
      "imagesize                               1.2.0\n",
      "importlib-metadata                      8.5.0\n",
      "importlib-resources                     6.4.5\n",
      "iniconfig                               1.1.1\n",
      "intervaltree                            3.1.0\n",
      "ipykernel                               6.29.5\n",
      "ipython                                 8.12.3\n",
      "ipython-genutils                        0.2.0\n",
      "ipywidgets                              7.6.3\n",
      "isoduration                             20.11.0\n",
      "isort                                   5.8.0\n",
      "itsdangerous                            1.1.0\n",
      "jdcal                                   1.4.1\n",
      "jedi                                    0.17.2\n",
      "jinja2                                  3.1.5\n",
      "jiter                                   0.8.2\n",
      "joblib                                  1.4.2\n",
      "json5                                   0.9.5\n",
      "jsonpointer                             3.0.0\n",
      "jsonschema                              4.23.0\n",
      "jsonschema-specifications               2023.12.1\n",
      "jupyter                                 1.0.0\n",
      "jupyter-client                          8.6.3\n",
      "jupyter-console                         6.4.0\n",
      "jupyter-core                            5.7.2\n",
      "jupyter-events                          0.10.0\n",
      "jupyter-lsp                             2.2.5\n",
      "jupyter-packaging                       0.7.12\n",
      "jupyter-server                          2.14.2\n",
      "jupyter-server-terminals                0.5.3\n",
      "jupyterlab                              4.3.5\n",
      "jupyterlab-pygments                     0.1.2\n",
      "jupyterlab-server                       2.27.3\n",
      "jupyterlab-widgets                      1.0.0\n",
      "keras                                   2.10.0\n",
      "Keras-Preprocessing                     1.1.2\n",
      "keyring                                 22.3.0\n",
      "kiwisolver                              1.3.1\n",
      "lazy-object-proxy                       1.6.0\n",
      "libarchive-c                            2.9\n",
      "libclang                                18.1.1\n",
      "llama-cloud                             0.1.7\n",
      "llama-index                             0.11.23\n",
      "llama-index-agent-openai                0.3.4\n",
      "llama-index-cli                         0.3.1\n",
      "llama-index-core                        0.11.23\n",
      "llama-index-embeddings-huggingface      0.3.1\n",
      "llama-index-embeddings-openai           0.2.5\n",
      "llama-index-indices-managed-llama-cloud 0.5.0\n",
      "llama-index-legacy                      0.9.48.post4\n",
      "llama-index-llms-ollama                 0.3.6\n",
      "llama-index-llms-openai                 0.2.16\n",
      "llama-index-multi-modal-llms-openai     0.2.3\n",
      "llama-index-program-openai              0.2.0\n",
      "llama-index-question-gen-openai         0.2.0\n",
      "llama-index-readers-file                0.3.0\n",
      "llama-index-readers-llama-parse         0.3.0\n",
      "llama-parse                             0.5.15\n",
      "llvmlite                                0.36.0\n",
      "locket                                  0.2.1\n",
      "lxml                                    5.3.0\n",
      "Markdown                                3.7\n",
      "MarkupSafe                              2.1.5\n",
      "marshmallow                             3.22.0\n",
      "matplotlib                              3.7.5\n",
      "matplotlib-inline                       0.1.7\n",
      "mccabe                                  0.6.1\n",
      "menuinst                                1.4.16\n",
      "mistune                                 3.1.1\n",
      "mkl-fft                                 1.3.0\n",
      "mkl-random                              1.2.1\n",
      "mkl-service                             2.3.0\n",
      "mock                                    4.0.3\n",
      "more-itertools                          8.7.0\n",
      "mpmath                                  1.2.1\n",
      "msgpack                                 1.0.2\n",
      "multidict                               6.1.0\n",
      "multipledispatch                        0.6.0\n",
      "multitasking                            0.0.11\n",
      "mypy-extensions                         0.4.3\n",
      "nbclassic                               0.2.6\n",
      "nbclient                                0.5.3\n",
      "nbconvert                               7.16.6\n",
      "nbformat                                5.10.4\n",
      "nest-asyncio                            1.6.0\n",
      "netmiko                                 4.4.0\n",
      "networkx                                3.1\n",
      "nltk                                    3.9.1\n",
      "nose                                    1.3.7\n",
      "notebook                                7.3.2\n",
      "notebook-shim                           0.2.4\n",
      "ntc-templates                           7.5.0\n",
      "numba                                   0.53.1\n",
      "numexpr                                 2.7.3\n",
      "numpy                                   1.22.4\n",
      "numpydoc                                1.1.0\n",
      "oauthlib                                3.2.2\n",
      "olefile                                 0.46\n",
      "ollama                                  0.4.5\n",
      "openai                                  1.58.1\n",
      "openpyxl                                3.0.7\n",
      "opt-einsum                              3.4.0\n",
      "overrides                               7.7.0\n",
      "packaging                               24.1\n",
      "pandas                                  2.0.3\n",
      "pandasai                                3.0.0b6\n",
      "pandocfilters                           1.4.3\n",
      "paramiko                                3.5.0\n",
      "parso                                   0.7.0\n",
      "partd                                   1.2.0\n",
      "path                                    15.1.2\n",
      "pathlib2                                2.3.5\n",
      "pathspec                                0.7.0\n",
      "patsy                                   0.5.6\n",
      "peewee                                  3.17.8\n",
      "pep8                                    1.7.1\n",
      "pexpect                                 4.8.0\n",
      "pickleshare                             0.7.5\n",
      "pillow                                  10.4.0\n",
      "pip                                     21.0.1\n",
      "pkginfo                                 1.7.0\n",
      "pkgutil-resolve-name                    1.3.10\n",
      "platformdirs                            4.3.6\n",
      "pluggy                                  0.13.1\n",
      "ply                                     3.11\n",
      "pmdarima                                2.0.4\n",
      "prometheus-client                       0.10.1\n",
      "prompt-toolkit                          3.0.50\n",
      "propcache                               0.2.0\n",
      "protobuf                                3.19.6\n",
      "psutil                                  5.8.0\n",
      "ptyprocess                              0.7.0\n",
      "pure-eval                               0.2.3\n",
      "py                                      1.10.0\n",
      "pyarrow                                 14.0.2\n",
      "pyasn1                                  0.6.1\n",
      "pyasn1-modules                          0.4.1\n",
      "pycodestyle                             2.6.0\n",
      "pycosat                                 0.6.3\n",
      "pycparser                               2.20\n",
      "pycryptodomex                           3.21.0\n",
      "pycurl                                  7.43.0.6\n",
      "pydantic                                2.10.4\n",
      "pydantic-core                           2.27.2\n",
      "pydocstyle                              6.0.0\n",
      "pyerfa                                  1.7.3\n",
      "pyflakes                                2.2.0\n",
      "Pygments                                2.8.1\n",
      "pylint                                  2.7.4\n",
      "pyls-spyder                             0.3.2\n",
      "PyNaCl                                  1.5.0\n",
      "pyodbc                                  4.0.0-unsupported\n",
      "pyOpenSSL                               20.0.1\n",
      "pyparsing                               2.4.7\n",
      "pypdf                                   5.1.0\n",
      "pyreadline                              2.1\n",
      "pyrsistent                              0.17.3\n",
      "pyserial                                3.5\n",
      "PySocks                                 1.7.1\n",
      "pytest                                  6.2.3\n",
      "python-dateutil                         2.9.0.post0\n",
      "python-dotenv                           1.0.1\n",
      "python-json-logger                      3.2.1\n",
      "python-jsonrpc-server                   0.4.0\n",
      "python-language-server                  0.36.2\n",
      "pytz                                    2024.2\n",
      "PyWavelets                              1.1.1\n",
      "pywin32                                 308\n",
      "pywin32-ctypes                          0.2.0\n",
      "pywinpty                                2.0.13\n",
      "PyYAML                                  6.0.2\n",
      "pyzipper                                0.3.6\n",
      "pyzmq                                   26.2.1\n",
      "QDarkStyle                              2.8.1\n",
      "QtAwesome                               1.0.2\n",
      "qtconsole                               5.0.3\n",
      "QtPy                                    1.9.0\n",
      "referencing                             0.35.1\n",
      "regex                                   2024.11.6\n",
      "requests                                2.32.3\n",
      "requests-oauthlib                       2.0.0\n",
      "rfc3339-validator                       0.1.4\n",
      "rfc3986-validator                       0.1.1\n",
      "rope                                    0.18.0\n",
      "rpds-py                                 0.20.1\n",
      "rsa                                     4.9\n",
      "Rtree                                   0.9.7\n",
      "ruamel-yaml-conda                       0.15.100\n",
      "safetensors                             0.4.5\n",
      "scikeras                                0.12.0\n",
      "scikit-image                            0.18.1\n",
      "scikit-learn                            1.3.2\n",
      "scipy                                   1.10.1\n",
      "scp                                     0.15.0\n",
      "seaborn                                 0.12.2\n",
      "Send2Trash                              1.8.3\n",
      "sentence-transformers                   3.2.1\n",
      "setuptools                              75.3.0\n",
      "simplegeneric                           0.8.1\n",
      "singledispatch                          0.0.0\n",
      "sip                                     4.19.13\n",
      "six                                     1.15.0\n",
      "sniffio                                 1.2.0\n",
      "snowballstemmer                         2.1.0\n",
      "sortedcollections                       2.1.0\n",
      "sortedcontainers                        2.3.0\n",
      "soupsieve                               2.2.1\n",
      "Sphinx                                  4.0.1\n",
      "sphinxcontrib-applehelp                 1.0.2\n",
      "sphinxcontrib-devhelp                   1.0.2\n",
      "sphinxcontrib-htmlhelp                  1.0.3\n",
      "sphinxcontrib-jsmath                    1.0.1\n",
      "sphinxcontrib-qthelp                    1.0.3\n",
      "sphinxcontrib-serializinghtml           1.1.4\n",
      "sphinxcontrib-websupport                1.2.4\n",
      "spyder                                  4.2.5\n",
      "spyder-kernels                          1.10.2\n",
      "SQLAlchemy                              2.0.36\n",
      "sqlglot                                 25.34.1\n",
      "sqlglotrs                               0.3.0\n",
      "stack-data                              0.6.3\n",
      "statsmodels                             0.14.1\n",
      "striprtf                                0.0.26\n",
      "sympy                                   1.8\n",
      "tables                                  3.6.1\n",
      "tblib                                   1.7.0\n",
      "tenacity                                8.5.0\n",
      "tensorboard                             2.10.1\n",
      "tensorboard-data-server                 0.6.1\n",
      "tensorboard-plugin-wit                  1.8.1\n",
      "tensorflow                              2.10.0\n",
      "tensorflow-estimator                    2.10.0\n",
      "tensorflow-intel                        2.10.0\n",
      "tensorflow-io-gcs-filesystem            0.31.0\n",
      "termcolor                               2.4.0\n",
      "terminado                               0.9.4\n",
      "testpath                                0.4.4\n",
      "textdistance                            4.2.1\n",
      "textfsm                                 1.1.3\n",
      "threadpoolctl                           2.1.0\n",
      "three-merge                             0.1.1\n",
      "tifffile                                2021.4.8\n",
      "tiktoken                                0.7.0\n",
      "tokenizers                              0.20.3\n",
      "toml                                    0.10.2\n",
      "tomli                                   2.2.1\n",
      "toolz                                   0.11.1\n",
      "torch                                   2.4.1\n",
      "tornado                                 6.4.2\n",
      "tqdm                                    4.67.1\n",
      "traitlets                               5.14.3\n",
      "transformers                            4.46.3\n",
      "ttp                                     0.9.5\n",
      "typed-ast                               1.4.2\n",
      "types-python-dateutil                   2.9.0.20241206\n",
      "typing-extensions                       4.12.2\n",
      "typing-inspect                          0.9.0\n",
      "tzdata                                  2024.2\n",
      "ujson                                   4.0.2\n",
      "unicodecsv                              0.14.1\n",
      "uri-template                            1.3.0\n",
      "urllib3                                 1.26.4\n",
      "watchdog                                1.0.2\n",
      "wcwidth                                 0.2.5\n",
      "webcolors                               24.8.0\n",
      "webencodings                            0.5.1\n",
      "websocket-client                        1.8.0\n",
      "Werkzeug                                1.0.1\n",
      "wheel                                   0.36.2\n",
      "widgetsnbextension                      3.5.1\n",
      "win-inet-pton                           1.1.0\n",
      "win-unicode-console                     0.5\n",
      "wincertstore                            0.2\n",
      "wrapt                                   1.12.1\n",
      "xlrd                                    2.0.1\n",
      "XlsxWriter                              1.3.8\n",
      "xlwings                                 0.23.0\n",
      "xlwt                                    1.3.0\n",
      "yapf                                    0.31.0\n",
      "yarl                                    1.15.2\n",
      "yfinance                                0.2.51\n",
      "zict                                    2.0.0\n",
      "zipp                                    3.20.2\n",
      "zope.event                              4.5.0\n",
      "zope.interface                          5.3.0\n"
     ]
    }
   ],
   "source": [
    "!pip list"
   ]
  },
  {
   "cell_type": "code",
   "execution_count": 10,
   "id": "a3bdb17c-ca74-46f0-b975-09924486c091",
   "metadata": {},
   "outputs": [
    {
     "data": {
      "text/plain": [
       "str"
      ]
     },
     "execution_count": 10,
     "metadata": {},
     "output_type": "execute_result"
    }
   ],
   "source": [
    "type(sonuc)"
   ]
  },
  {
   "cell_type": "code",
   "execution_count": 11,
   "id": "50470c9a-9f43-4a63-9540-8b5ca65850c5",
   "metadata": {},
   "outputs": [],
   "source": [
    "import string"
   ]
  },
  {
   "cell_type": "code",
   "execution_count": 12,
   "id": "df879a86-b960-4845-bd34-da20fbb84666",
   "metadata": {},
   "outputs": [
    {
     "data": {
      "text/plain": [
       "'0123456789abcdefghijklmnopqrstuvwxyzABCDEFGHIJKLMNOPQRSTUVWXYZ!\"#$%&\\'()*+,-./:;<=>?@[\\\\]^_`{|}~ \\t\\n\\r\\x0b\\x0c'"
      ]
     },
     "execution_count": 12,
     "metadata": {},
     "output_type": "execute_result"
    }
   ],
   "source": [
    "a=string.printable\n",
    "a"
   ]
  },
  {
   "cell_type": "code",
   "execution_count": 13,
   "id": "62a2ac6d-a029-446a-a62b-8c56e632c26f",
   "metadata": {},
   "outputs": [
    {
     "data": {
      "text/plain": [
       "int"
      ]
     },
     "execution_count": 13,
     "metadata": {},
     "output_type": "execute_result"
    }
   ],
   "source": [
    "a=42\n",
    "type(a)"
   ]
  },
  {
   "cell_type": "code",
   "execution_count": 16,
   "id": "4982ff84-0815-4a7b-a915-cc1618cd5725",
   "metadata": {},
   "outputs": [
    {
     "name": "stdout",
     "output_type": "stream",
     "text": [
      "\n",
      "\n",
      "Python ile Hesap Makinemize Hosgeldiniz:\n",
      "\n",
      "Toplama icin : +\n",
      "Cikarma icin : -\n",
      "Carpma icin  : *\n",
      "Bolme icin   : /\n",
      "Cikis        : ESC\n",
      "\n",
      "\n"
     ]
    },
    {
     "name": "stdin",
     "output_type": "stream",
     "text": [
      "Bir secim yapin: +,-,*,/,ESC:  4\n"
     ]
    },
    {
     "name": "stdout",
     "output_type": "stream",
     "text": [
      "Yanlis bir secim yapitiniz.\n",
      " \n",
      "\n",
      "Python ile Hesap Makinemize Hosgeldiniz:\n",
      "\n",
      "Toplama icin : +\n",
      "Cikarma icin : -\n",
      "Carpma icin  : *\n",
      "Bolme icin   : /\n",
      "Cikis        : ESC\n",
      "\n",
      "\n"
     ]
    },
    {
     "name": "stdin",
     "output_type": "stream",
     "text": [
      "Bir secim yapin: +,-,*,/,ESC:  /\n",
      "1.sayiyi yaziniz:  4\n",
      "2.sayiyi yaziniz:  0\n"
     ]
    },
    {
     "ename": "ZeroDivisionError",
     "evalue": "division by zero",
     "output_type": "error",
     "traceback": [
      "\u001b[1;31m--------------------------------------------------------------------\u001b[0m",
      "\u001b[1;31mZeroDivisionError\u001b[0m                  Traceback (most recent call last)",
      "Cell \u001b[1;32mIn[16], line 53\u001b[0m\n\u001b[0;32m     51\u001b[0m     sayi1 \u001b[38;5;241m=\u001b[39m \u001b[38;5;28mint\u001b[39m(\u001b[38;5;28minput\u001b[39m(\u001b[38;5;124m'\u001b[39m\u001b[38;5;124m1.sayiyi yaziniz: \u001b[39m\u001b[38;5;124m'\u001b[39m))\n\u001b[0;32m     52\u001b[0m     sayi2 \u001b[38;5;241m=\u001b[39m \u001b[38;5;28mint\u001b[39m(\u001b[38;5;28minput\u001b[39m(\u001b[38;5;124m'\u001b[39m\u001b[38;5;124m2.sayiyi yaziniz: \u001b[39m\u001b[38;5;124m'\u001b[39m))\n\u001b[1;32m---> 53\u001b[0m     \u001b[38;5;28mprint\u001b[39m(\u001b[38;5;124mf\u001b[39m\u001b[38;5;124m'\u001b[39m\u001b[38;5;132;01m{\u001b[39;00msayi1\u001b[38;5;132;01m}\u001b[39;00m\u001b[38;5;124m / \u001b[39m\u001b[38;5;132;01m{\u001b[39;00msayi2\u001b[38;5;132;01m}\u001b[39;00m\u001b[38;5;124m = \u001b[39m\u001b[38;5;132;01m{\u001b[39;00mbolme(sayi1,sayi2)\u001b[38;5;132;01m}\u001b[39;00m\u001b[38;5;124m'\u001b[39m)\n\u001b[0;32m     55\u001b[0m \u001b[38;5;28;01melse\u001b[39;00m:\n\u001b[0;32m     56\u001b[0m     \u001b[38;5;28mprint\u001b[39m(\u001b[38;5;124m'\u001b[39m\u001b[38;5;124mYanlis bir secim yapitiniz.\u001b[39m\u001b[38;5;130;01m\\n\u001b[39;00m\u001b[38;5;124m'\u001b[39m,menu)\n",
      "Cell \u001b[1;32mIn[16], line 13\u001b[0m, in \u001b[0;36mbolme\u001b[1;34m(a, b)\u001b[0m\n\u001b[0;32m     12\u001b[0m \u001b[38;5;28;01mdef\u001b[39;00m \u001b[38;5;21mbolme\u001b[39m(a,b):\n\u001b[1;32m---> 13\u001b[0m     \u001b[38;5;28;01mreturn\u001b[39;00m \u001b[43ma\u001b[49m\u001b[43m \u001b[49m\u001b[38;5;241;43m/\u001b[39;49m\u001b[43m \u001b[49m\u001b[43mb\u001b[49m\n",
      "\u001b[1;31mZeroDivisionError\u001b[0m: division by zero"
     ]
    }
   ],
   "source": [
    "#Python ile guzel bir hesap makinesi yapalim\n",
    "\n",
    "def topla(a,b):\n",
    "    return a + b\n",
    "\n",
    "def cikar(a,b):\n",
    "    return a - b  \n",
    "\n",
    "def carpma(a,b):\n",
    "    return a * b  \n",
    "\n",
    "def bolme(a,b):\n",
    "    return a / b\n",
    "\n",
    "menu = \"\"\"\n",
    "\n",
    "Python ile Hesap Makinemize Hosgeldiniz:\n",
    "\n",
    "Toplama icin : +\n",
    "Cikarma icin : -\n",
    "Carpma icin  : *\n",
    "Bolme icin   : /\n",
    "Cikis        : ESC\n",
    "\n",
    "\"\"\"\n",
    "\n",
    "print(menu)\n",
    "\n",
    "while True:\n",
    "    secim = input('Bir secim yapin: +,-,*,/,ESC: ')\n",
    "    \n",
    "    if secim.upper() == 'ESC':\n",
    "        print('Cikis')\n",
    "        break\n",
    "    elif secim == '+':\n",
    "        sayi1 = int(input('1.sayiyi yaziniz: '))\n",
    "        sayi2 = int(input('2.sayiyi yaziniz: '))\n",
    "        print(f'{sayi1} + {sayi2} = {topla(sayi1,sayi2)}')\n",
    "        \n",
    "    elif secim == '-':\n",
    "        sayi1 = int(input('1.sayiyi yaziniz: '))\n",
    "        sayi2 = int(input('2.sayiyi yaziniz: '))\n",
    "        print(f'{sayi1} - {sayi2} = {cikar(sayi1,sayi2)}')\n",
    "        \n",
    "    elif secim == '*':\n",
    "        sayi1 = int(input('1.sayiyi yaziniz: '))\n",
    "        sayi2 = int(input('2.sayiyi yaziniz: '))\n",
    "        print(f'{sayi1} X {sayi2} = {carpma(sayi1,sayi2)}')\n",
    "        \n",
    "    elif secim == '/':\n",
    "        sayi1 = int(input('1.sayiyi yaziniz: '))\n",
    "        sayi2 = int(input('2.sayiyi yaziniz: '))\n",
    "        print(f'{sayi1} / {sayi2} = {bolme(sayi1,sayi2)}')\n",
    "        \n",
    "    else:\n",
    "        print('Yanlis bir secim yapitiniz.\\n',menu)"
   ]
  },
  {
   "cell_type": "code",
   "execution_count": 17,
   "id": "70902146-f9ac-4160-8bea-cfa1560d8373",
   "metadata": {},
   "outputs": [
    {
     "name": "stdin",
     "output_type": "stream",
     "text": [
      "1.sayiyi yaziniz:  dfssdgd g$\n"
     ]
    },
    {
     "ename": "ValueError",
     "evalue": "invalid literal for int() with base 10: 'dfssdgd g$'",
     "output_type": "error",
     "traceback": [
      "\u001b[1;31m--------------------------------------------------------------------\u001b[0m",
      "\u001b[1;31mValueError\u001b[0m                         Traceback (most recent call last)",
      "Cell \u001b[1;32mIn[17], line 1\u001b[0m\n\u001b[1;32m----> 1\u001b[0m sayi1 \u001b[38;5;241m=\u001b[39m \u001b[38;5;28;43mint\u001b[39;49m\u001b[43m(\u001b[49m\u001b[38;5;28;43minput\u001b[39;49m\u001b[43m(\u001b[49m\u001b[38;5;124;43m'\u001b[39;49m\u001b[38;5;124;43m1.sayiyi yaziniz: \u001b[39;49m\u001b[38;5;124;43m'\u001b[39;49m\u001b[43m)\u001b[49m\u001b[43m)\u001b[49m\n",
      "\u001b[1;31mValueError\u001b[0m: invalid literal for int() with base 10: 'dfssdgd g$'"
     ]
    }
   ],
   "source": [
    "sayi1 = int(input('1.sayiyi yaziniz: '))"
   ]
  },
  {
   "cell_type": "code",
   "execution_count": null,
   "id": "e7f9d5ac-fdf6-48de-944b-bdbe249e81fe",
   "metadata": {},
   "outputs": [],
   "source": [
    "#python bir string'in float'a donusup; donusmeyecegini"
   ]
  },
  {
   "cell_type": "code",
   "execution_count": 19,
   "id": "6a9da9ef-b107-403b-aa2d-881ce46b8f45",
   "metadata": {},
   "outputs": [],
   "source": [
    "def is_float(a):\n",
    "    a=float(a)\n",
    "    return True"
   ]
  },
  {
   "cell_type": "code",
   "execution_count": 20,
   "id": "1811a211-66a7-422a-96e9-47e8a1896900",
   "metadata": {},
   "outputs": [
    {
     "data": {
      "text/plain": [
       "True"
      ]
     },
     "execution_count": 20,
     "metadata": {},
     "output_type": "execute_result"
    }
   ],
   "source": [
    "is_float('2')"
   ]
  },
  {
   "cell_type": "code",
   "execution_count": 21,
   "id": "9fc18b5d-066d-4b21-b018-a0f319890f6c",
   "metadata": {},
   "outputs": [
    {
     "ename": "ValueError",
     "evalue": "could not convert string to float: 'sdfsdfsdf'",
     "output_type": "error",
     "traceback": [
      "\u001b[1;31m--------------------------------------------------------------------\u001b[0m",
      "\u001b[1;31mValueError\u001b[0m                         Traceback (most recent call last)",
      "Cell \u001b[1;32mIn[21], line 1\u001b[0m\n\u001b[1;32m----> 1\u001b[0m \u001b[43mis_float\u001b[49m\u001b[43m(\u001b[49m\u001b[38;5;124;43m'\u001b[39;49m\u001b[38;5;124;43msdfsdfsdf\u001b[39;49m\u001b[38;5;124;43m'\u001b[39;49m\u001b[43m)\u001b[49m\n",
      "Cell \u001b[1;32mIn[19], line 2\u001b[0m, in \u001b[0;36mis_float\u001b[1;34m(a)\u001b[0m\n\u001b[0;32m      1\u001b[0m \u001b[38;5;28;01mdef\u001b[39;00m \u001b[38;5;21mis_float\u001b[39m(a):\n\u001b[1;32m----> 2\u001b[0m     a\u001b[38;5;241m=\u001b[39m\u001b[38;5;28;43mfloat\u001b[39;49m\u001b[43m(\u001b[49m\u001b[43ma\u001b[49m\u001b[43m)\u001b[49m\n\u001b[0;32m      3\u001b[0m     \u001b[38;5;28;01mreturn\u001b[39;00m \u001b[38;5;28;01mTrue\u001b[39;00m\n",
      "\u001b[1;31mValueError\u001b[0m: could not convert string to float: 'sdfsdfsdf'"
     ]
    }
   ],
   "source": [
    "is_float('sdfsdfsdf')"
   ]
  },
  {
   "cell_type": "code",
   "execution_count": 22,
   "id": "79df1e48-804d-45c5-be9d-e07f32958416",
   "metadata": {},
   "outputs": [],
   "source": [
    "def is_float(a):\n",
    "    try:\n",
    "        a=float(a)\n",
    "        return True\n",
    "    except ValueError:\n",
    "        return False"
   ]
  },
  {
   "cell_type": "code",
   "execution_count": 23,
   "id": "40409858-b313-4f03-8fbc-c7c495206cfc",
   "metadata": {},
   "outputs": [
    {
     "data": {
      "text/plain": [
       "False"
      ]
     },
     "execution_count": 23,
     "metadata": {},
     "output_type": "execute_result"
    }
   ],
   "source": [
    "is_float('sdfsdfsdf')"
   ]
  },
  {
   "cell_type": "code",
   "execution_count": 24,
   "id": "33b340f9-21a3-4b92-9595-705b83e6327e",
   "metadata": {},
   "outputs": [
    {
     "data": {
      "text/plain": [
       "True"
      ]
     },
     "execution_count": 24,
     "metadata": {},
     "output_type": "execute_result"
    }
   ],
   "source": [
    "is_float('2')"
   ]
  },
  {
   "cell_type": "code",
   "execution_count": 28,
   "id": "0e679e78-e3f8-466a-8b80-ae0a24ebd277",
   "metadata": {},
   "outputs": [
    {
     "name": "stdin",
     "output_type": "stream",
     "text": [
      "sayi2 yaz:  .000000000000000000000000000000\n"
     ]
    },
    {
     "data": {
      "text/plain": [
       "0.0"
      ]
     },
     "execution_count": 28,
     "metadata": {},
     "output_type": "execute_result"
    }
   ],
   "source": [
    "sayi2=float(input('sayi2 yaz: '))\n",
    "sayi2"
   ]
  },
  {
   "cell_type": "code",
   "execution_count": 32,
   "id": "40b963de-dcdc-43a2-93f1-e9c18f67c23a",
   "metadata": {},
   "outputs": [
    {
     "name": "stdout",
     "output_type": "stream",
     "text": [
      "\n",
      "\n",
      "Python ile Hesap Makinemize Hosgeldiniz:\n",
      "\n",
      "Toplama icin : +\n",
      "Cikarma icin : -\n",
      "Carpma icin  : *\n",
      "Bolme icin   : /\n",
      "Cikis        : ESC\n",
      "\n",
      "\n"
     ]
    },
    {
     "name": "stdin",
     "output_type": "stream",
     "text": [
      "Bir secim yapin: +,-,*,/,ESC:  +\n",
      "sayi1 yaz:  42.1\n",
      "sayi2 yaz:  0.2\n"
     ]
    },
    {
     "name": "stdout",
     "output_type": "stream",
     "text": [
      "42.1 + 0.2 = 42.300000000000004\n"
     ]
    },
    {
     "name": "stdin",
     "output_type": "stream",
     "text": [
      "Bir secim yapin: +,-,*,/,ESC:  *\n",
      "sayi1 yaz:  0\n",
      "sayi2 yaz:  4\n"
     ]
    },
    {
     "name": "stdout",
     "output_type": "stream",
     "text": [
      "0 X 4 = 0\n"
     ]
    },
    {
     "name": "stdin",
     "output_type": "stream",
     "text": [
      "Bir secim yapin: +,-,*,/,ESC:  /\n",
      "sayi1 yaz:  4\n",
      "sayi2 yaz:  2\n"
     ]
    },
    {
     "name": "stdout",
     "output_type": "stream",
     "text": [
      "4 / 2 = 2.0\n"
     ]
    },
    {
     "name": "stdin",
     "output_type": "stream",
     "text": [
      "Bir secim yapin: +,-,*,/,ESC:  4\n"
     ]
    },
    {
     "name": "stdout",
     "output_type": "stream",
     "text": [
      "Yanlis bir secim yapitiniz.\n",
      " \n",
      "\n",
      "Python ile Hesap Makinemize Hosgeldiniz:\n",
      "\n",
      "Toplama icin : +\n",
      "Cikarma icin : -\n",
      "Carpma icin  : *\n",
      "Bolme icin   : /\n",
      "Cikis        : ESC\n",
      "\n",
      "\n"
     ]
    },
    {
     "name": "stdin",
     "output_type": "stream",
     "text": [
      "Bir secim yapin: +,-,*,/,ESC:  /\n",
      "sayi1 yaz:  4\n",
      "sayi2 yaz:  0\n",
      "sayi2 icin sayi yaz ya da cikis icin ESC:  0.0\n",
      "sayi2 icin sayi yaz ya da cikis icin ESC:  0.00000000000000000000\n",
      "sayi2 icin sayi yaz ya da cikis icin ESC:  .0\n",
      "sayi2 icin sayi yaz ya da cikis icin ESC:  .00000000000000000000000000\n",
      "sayi2 icin sayi yaz ya da cikis icin ESC:  0.2\n"
     ]
    },
    {
     "name": "stdout",
     "output_type": "stream",
     "text": [
      "4 / 0.2 = 20.0\n"
     ]
    },
    {
     "name": "stdin",
     "output_type": "stream",
     "text": [
      "Bir secim yapin: +,-,*,/,ESC:  esc\n"
     ]
    },
    {
     "name": "stdout",
     "output_type": "stream",
     "text": [
      "Cikis\n"
     ]
    }
   ],
   "source": [
    "#Python ile guzel bir hesap makinesi yapalim\n",
    "\n",
    "def topla(a,b):\n",
    "    return a + b\n",
    "\n",
    "def cikar(a,b):\n",
    "    return a - b  \n",
    "\n",
    "def carpma(a,b):\n",
    "    return a * b  \n",
    "\n",
    "def bolme(a,b):\n",
    "    return a / b\n",
    "\n",
    "def is_float(a):\n",
    "    try:\n",
    "        a=float(a)\n",
    "        return True\n",
    "    except ValueError:\n",
    "        return False\n",
    "\n",
    "menu = \"\"\"\n",
    "\n",
    "Python ile Hesap Makinemize Hosgeldiniz:\n",
    "\n",
    "Toplama icin : +\n",
    "Cikarma icin : -\n",
    "Carpma icin  : *\n",
    "Bolme icin   : /\n",
    "Cikis        : ESC\n",
    "\n",
    "\"\"\"\n",
    "\n",
    "print(menu)\n",
    "\n",
    "while True:\n",
    "    secim = input('Bir secim yapin: +,-,*,/,ESC: ')\n",
    "\n",
    "    if secim in ['+','-','*','/']:\n",
    "\n",
    "        sayi1=input('sayi1 yaz: ')\n",
    "        flag_sayi1=False\n",
    "        while not is_float(sayi1):\n",
    "            sayi1=input('sayi1 icin sayi yaz ya da cikis icin ESC: ')\n",
    "            if sayi1.lower()=='esc':\n",
    "                print('cikis')\n",
    "                flag_sayi1=True\n",
    "                break\n",
    "        if flag_sayi1:\n",
    "            break\n",
    "        if '.' in sayi1:\n",
    "            sayi1=float(sayi1)\n",
    "        else:\n",
    "            sayi1=int(sayi1)\n",
    "\n",
    "        \n",
    "        sayi2=input('sayi2 yaz: ')\n",
    "        flag_sayi2=False\n",
    "        while not is_float(sayi2) or (secim=='/' and float(sayi2)==0.0):\n",
    "            sayi2=input('sayi2 icin sayi yaz ya da cikis icin ESC: ')\n",
    "            if sayi2.lower()=='esc':\n",
    "                print('cikis')\n",
    "                flag_sayi2=True\n",
    "                break\n",
    "        if flag_sayi2:\n",
    "            break\n",
    "            \n",
    "        if '.' in sayi2:\n",
    "            sayi2=float(sayi2)\n",
    "        else:\n",
    "            sayi2=int(sayi2)\n",
    "\n",
    "        if secim == '+':\n",
    "            print(f'{sayi1} + {sayi2} = {topla(sayi1,sayi2)}')            \n",
    "        elif secim == '-':\n",
    "            print(f'{sayi1} - {sayi2} = {cikar(sayi1,sayi2)}')\n",
    "        \n",
    "        elif secim == '*':\n",
    "            print(f'{sayi1} X {sayi2} = {carpma(sayi1,sayi2)}')\n",
    "\n",
    "        elif secim == '/':\n",
    "            print(f'{sayi1} / {sayi2} = {bolme(sayi1,sayi2)}')\n",
    "\n",
    "\n",
    "    elif secim.upper() == 'ESC':\n",
    "        print('Cikis')\n",
    "        break\n",
    "        \n",
    "    else:\n",
    "        print('Yanlis bir secim yapitiniz.\\n',menu)"
   ]
  },
  {
   "cell_type": "code",
   "execution_count": null,
   "id": "aa7b0afb-9e27-4230-9b0d-d54f06dd709f",
   "metadata": {},
   "outputs": [],
   "source": [
    "#14:30 kahve molasi"
   ]
  },
  {
   "cell_type": "code",
   "execution_count": 35,
   "id": "4786a548-79f0-4520-84cd-2737e860c69d",
   "metadata": {},
   "outputs": [
    {
     "name": "stdout",
     "output_type": "stream",
     "text": [
      "\n",
      "Python Hesap Makinemize Hoşgeldiniz:)\n",
      "\n",
      "Toplama için        : +\n",
      "Çıkarma için        : -\n",
      "Çarpma için         : *\n",
      "Bölme için          : /\n",
      "Çıkış için          : ESC\n",
      "\n"
     ]
    },
    {
     "name": "stdin",
     "output_type": "stream",
     "text": [
      "Enter a number:  4.1\n",
      "Choose an operation (+, -, *, /, ESC):  +\n",
      "Enter next number:  2\n"
     ]
    },
    {
     "name": "stdout",
     "output_type": "stream",
     "text": [
      "Current result: 6.1\n"
     ]
    },
    {
     "name": "stdin",
     "output_type": "stream",
     "text": [
      "Choose an operation (+, -, *, /, ESC):  *\n",
      "Enter next number:  2.4\n"
     ]
    },
    {
     "name": "stdout",
     "output_type": "stream",
     "text": [
      "Current result: 14.639999999999999\n"
     ]
    },
    {
     "name": "stdin",
     "output_type": "stream",
     "text": [
      "Choose an operation (+, -, *, /, ESC):  *\n",
      "Enter next number:  0\n"
     ]
    },
    {
     "name": "stdout",
     "output_type": "stream",
     "text": [
      "Current result: 0.0\n"
     ]
    },
    {
     "name": "stdin",
     "output_type": "stream",
     "text": [
      "Choose an operation (+, -, *, /, ESC):  -\n",
      "Enter next number:  12.2\n"
     ]
    },
    {
     "name": "stdout",
     "output_type": "stream",
     "text": [
      "Current result: -12.2\n"
     ]
    },
    {
     "name": "stdin",
     "output_type": "stream",
     "text": [
      "Choose an operation (+, -, *, /, ESC):  /\n",
      "Enter next number:  4\n"
     ]
    },
    {
     "name": "stdout",
     "output_type": "stream",
     "text": [
      "Current result: -3.05\n"
     ]
    },
    {
     "name": "stdin",
     "output_type": "stream",
     "text": [
      "Choose an operation (+, -, *, /, ESC):  /\n",
      "Enter next number:  0\n"
     ]
    },
    {
     "name": "stdout",
     "output_type": "stream",
     "text": [
      "Lütfen geçerli bir rakam giriniz!\n"
     ]
    },
    {
     "name": "stdin",
     "output_type": "stream",
     "text": [
      "Enter a number or type ESC to quit:  0.0\n"
     ]
    },
    {
     "name": "stdout",
     "output_type": "stream",
     "text": [
      "Lütfen geçerli bir rakam giriniz!\n"
     ]
    },
    {
     "name": "stdin",
     "output_type": "stream",
     "text": [
      "Enter a number or type ESC to quit:  .0000\n"
     ]
    },
    {
     "name": "stdout",
     "output_type": "stream",
     "text": [
      "Lütfen geçerli bir rakam giriniz!\n"
     ]
    },
    {
     "name": "stdin",
     "output_type": "stream",
     "text": [
      "Enter a number or type ESC to quit:  0.0000000\n"
     ]
    },
    {
     "name": "stdout",
     "output_type": "stream",
     "text": [
      "Lütfen geçerli bir rakam giriniz!\n"
     ]
    },
    {
     "name": "stdin",
     "output_type": "stream",
     "text": [
      "Enter a number or type ESC to quit:  .0000\n"
     ]
    },
    {
     "name": "stdout",
     "output_type": "stream",
     "text": [
      "Lütfen geçerli bir rakam giriniz!\n"
     ]
    },
    {
     "name": "stdin",
     "output_type": "stream",
     "text": [
      "Enter a number or type ESC to quit:  0\n"
     ]
    },
    {
     "name": "stdout",
     "output_type": "stream",
     "text": [
      "Lütfen geçerli bir rakam giriniz!\n"
     ]
    },
    {
     "name": "stdin",
     "output_type": "stream",
     "text": [
      "Enter a number or type ESC to quit:  2\n"
     ]
    },
    {
     "name": "stdout",
     "output_type": "stream",
     "text": [
      "Current result: -1.525\n"
     ]
    },
    {
     "name": "stdin",
     "output_type": "stream",
     "text": [
      "Choose an operation (+, -, *, /, ESC):  esc\n"
     ]
    },
    {
     "name": "stdout",
     "output_type": "stream",
     "text": [
      "Final result: -1.525\n",
      "Exiting...\n"
     ]
    }
   ],
   "source": [
    "# Matematik işlemleri için fonksiyonlar\n",
    "def toplama(x, y):\n",
    "    return x + y\n",
    "\n",
    "def cikarma(x, y):\n",
    "    return x - y\n",
    "\n",
    "def carpma(x, y):\n",
    "    return x * y\n",
    "\n",
    "def bolme(x, y):\n",
    "    return x / y\n",
    "\n",
    "# Geçerli sayı kontrol fonksiyonu\n",
    "def isfloat(num):\n",
    "    try:\n",
    "        num=float(num)\n",
    "        return True\n",
    "    except ValueError:\n",
    "        return False\n",
    "\n",
    "# Hesap makinesi menüsü\n",
    "menu = '''\n",
    "Python Hesap Makinemize Hoşgeldiniz:)\n",
    "\n",
    "Toplama için        : +\n",
    "Çıkarma için        : -\n",
    "Çarpma için         : *\n",
    "Bölme için          : /\n",
    "Çıkış için          : ESC\n",
    "'''\n",
    "\n",
    "print(menu)\n",
    "\n",
    "result = 0\n",
    "operation = 'ADD'\n",
    "\n",
    "while True:\n",
    "    if operation == 'ADD':\n",
    "        num = input(\"Enter a number: \")\n",
    "        flag1=False\n",
    "        while not isfloat(num):\n",
    "            print('Lütfen geçerli bir rakam giriniz!')\n",
    "            num = input(\"Enter a number or type ESC to quit: \")\n",
    "            if num.lower()=='esc':\n",
    "                print('Cikis')\n",
    "                flag1=True\n",
    "                break\n",
    "        if flag1:\n",
    "            break\n",
    "            \n",
    "        result = float(num) if '.' in num else int(num)\n",
    "        \n",
    "    else:\n",
    "        if operation in ('+', '-', '*', '/'):\n",
    "            num = input(\"Enter next number: \")\n",
    "            flag2=False\n",
    "            while not isfloat(num) or (operation == '/' and float(num) == 0.0):\n",
    "                print('Lütfen geçerli bir rakam giriniz!')\n",
    "                num = input(\"Enter a number or type ESC to quit: \")\n",
    "                if num.lower()=='esc':\n",
    "                    print('Cikis')\n",
    "                    flag2=True\n",
    "                    break\n",
    "\n",
    "            if flag2:\n",
    "                break\n",
    "\n",
    "            num = float(num) if '.' in num else int(num)\n",
    "\n",
    "            if operation == '+':\n",
    "                result = toplama(result, num)\n",
    "            elif operation == '-':\n",
    "                result = cikarma(result, num)\n",
    "            elif operation == '*':\n",
    "                result = carpma(result, num)\n",
    "            elif operation == '/':\n",
    "                result = bolme(result, num)\n",
    "\n",
    "            print(\"Current result:\", result)\n",
    "    \n",
    "    operation = input(\"Choose an operation (+, -, *, /, ESC): \")\n",
    "    \n",
    "    if operation.lower() == 'esc':\n",
    "        print('Final result:', result)\n",
    "        print('Exiting...')\n",
    "        break\n",
    "    \n",
    "    if operation not in ['+','-','*','/']:\n",
    "        print('yanlis secim yaptin. +,-,*,/ den birini yaz')"
   ]
  },
  {
   "cell_type": "code",
   "execution_count": 40,
   "id": "c6ff80bc-a571-47d0-b2ea-adbc3b14fab1",
   "metadata": {
    "scrolled": true
   },
   "outputs": [
    {
     "data": {
      "text/plain": [
       "6"
      ]
     },
     "execution_count": 40,
     "metadata": {},
     "output_type": "execute_result"
    }
   ],
   "source": [
    "isim='Erdeniz'\n",
    "kucuk=0\n",
    "for x in isim:\n",
    "    if x.islower():\n",
    "        #print(x)\n",
    "        kucuk+=1\n",
    "kucuk"
   ]
  },
  {
   "cell_type": "code",
   "execution_count": null,
   "id": "a4343f96-1102-4a76-a08b-f9bf6b249297",
   "metadata": {},
   "outputs": [],
   "source": []
  },
  {
   "cell_type": "code",
   "execution_count": 49,
   "id": "d6970c1b-2bb5-48ec-a462-5af715161349",
   "metadata": {},
   "outputs": [
    {
     "name": "stdin",
     "output_type": "stream",
     "text": [
      "Lutfen sifrenizi yaziniz:  PYkc  06%&ğü \n"
     ]
    },
    {
     "name": "stdout",
     "output_type": "stream",
     "text": [
      "Butun kosullar saglandi. Ailemize hosgeldiniz:)\n"
     ]
    }
   ],
   "source": [
    "#password\n",
    "\n",
    "#Emailimiz icin sifre kontrolu yapmaya\n",
    "#buyuk_harf min >= 2\n",
    "#bosluk >= min 2\n",
    "#digit >= min 2\n",
    "#not_alfa (#,$@><*()...) >= min 2\n",
    "#kucuk_harf_ascii >= min 2\n",
    "#kucuk_harf_Turkce >= min 2 (ığüöçş)\n",
    "#uzunluk >= min 12\n",
    "\n",
    "sifre = input('Lutfen sifrenizi yaziniz: ')\n",
    "\n",
    "buyuk_harf = 0\n",
    "bosluk = 0\n",
    "digit = 0\n",
    "not_alfa = 0\n",
    "kucuk_harf_ascii = 0\n",
    "kucuk_harf_Turkce = 0\n",
    "uzunluk = len(sifre)\n",
    "\n",
    "for karakter in sifre:\n",
    "    if karakter.isupper():\n",
    "        buyuk_harf+=1\n",
    "    elif karakter.isspace():\n",
    "        bosluk +=1\n",
    "    elif karakter.isdigit():\n",
    "        digit +=1\n",
    "    elif not karakter.isalpha():\n",
    "        not_alfa+=1\n",
    "    elif karakter.isascii():\n",
    "        kucuk_harf_ascii +=1\n",
    "    elif not karakter.isascii():\n",
    "        kucuk_harf_Turkce +=1\n",
    "        \n",
    "if uzunluk >= 13 and buyuk_harf>=2 and bosluk>=2 and digit>=2 and not_alfa>=2 and kucuk_harf_ascii>=2 and kucuk_harf_Turkce>=2:\n",
    "    print('Butun kosullar saglandi. Ailemize hosgeldiniz:)')\n",
    "else:\n",
    "    print('Sifre kabul edilmedi:(')\n"
   ]
  },
  {
   "cell_type": "raw",
   "id": "6c4abc4a-44c8-4b62-86a8-17c408d43c9d",
   "metadata": {},
   "source": [
    "TCpy34  #$çş "
   ]
  },
  {
   "cell_type": "code",
   "execution_count": 55,
   "id": "fad317e0-c2cb-4170-9a97-fdef9e833d89",
   "metadata": {},
   "outputs": [
    {
     "name": "stdout",
     "output_type": "stream",
     "text": [
      "evet string\n"
     ]
    }
   ],
   "source": [
    "mesaj='34'\n",
    "if isinstance(mesaj,str):\n",
    "    print('evet string')\n",
    "else:\n",
    "    print('hayir degildir')"
   ]
  },
  {
   "cell_type": "code",
   "execution_count": 56,
   "id": "a2d63fad-ce69-46d5-96ce-452437212364",
   "metadata": {},
   "outputs": [
    {
     "name": "stdout",
     "output_type": "stream",
     "text": [
      "hayir degildir\n"
     ]
    }
   ],
   "source": [
    "mesaj=34\n",
    "if isinstance(mesaj,str):\n",
    "    print('evet string')\n",
    "else:\n",
    "    print('hayir degildir')"
   ]
  },
  {
   "cell_type": "code",
   "execution_count": 57,
   "id": "63bb2b41-4831-49b0-8f76-eb12a0646456",
   "metadata": {},
   "outputs": [
    {
     "name": "stdout",
     "output_type": "stream",
     "text": [
      "evet int\n"
     ]
    }
   ],
   "source": [
    "mesaj=34\n",
    "if isinstance(mesaj,int):\n",
    "    print('evet int')\n",
    "else:\n",
    "    print('hayir degildir')"
   ]
  },
  {
   "cell_type": "code",
   "execution_count": 58,
   "id": "9ccff111-7e10-4b61-ba03-5c14557e56f9",
   "metadata": {},
   "outputs": [
    {
     "name": "stdout",
     "output_type": "stream",
     "text": [
      "hayir degildir\n"
     ]
    }
   ],
   "source": [
    "mesaj='34'\n",
    "if isinstance(mesaj,int):\n",
    "    print('evet int')\n",
    "else:\n",
    "    print('hayir degildir')"
   ]
  },
  {
   "cell_type": "code",
   "execution_count": 64,
   "id": "47f646cc-4572-4a0a-ad2f-947995974eed",
   "metadata": {},
   "outputs": [],
   "source": [
    "def password_kontrol(sifre):\n",
    "    buyuk_harf = 0\n",
    "    bosluk = 0\n",
    "    digit = 0\n",
    "    not_alfa = 0\n",
    "    kucuk_harf_ascii = 0\n",
    "    kucuk_harf_Turkce = 0\n",
    "    if isinstance(sifre,str):\n",
    "        \n",
    "        for karakter in sifre:\n",
    "            if karakter.isupper():\n",
    "                buyuk_harf+=1\n",
    "            elif karakter.isspace():\n",
    "                bosluk +=1\n",
    "            elif karakter.isdigit():\n",
    "                digit +=1\n",
    "            elif not karakter.isalpha():\n",
    "                not_alfa+=1\n",
    "            elif karakter.isascii():\n",
    "                kucuk_harf_ascii +=1\n",
    "            elif not karakter.isascii():\n",
    "                kucuk_harf_Turkce +=1\n",
    "\n",
    "        if len(sifre) >= 13 and buyuk_harf>=2 and bosluk>=2 and digit>=2 and not_alfa>=2 and kucuk_harf_ascii>=2 and kucuk_harf_Turkce>=2:\n",
    "            return True\n",
    "        else:\n",
    "            return False\n",
    "    \n",
    "    else:\n",
    "        return False"
   ]
  },
  {
   "cell_type": "code",
   "execution_count": 65,
   "id": "e0e3a8f5-3b44-462a-9a40-3bf399fc2eea",
   "metadata": {},
   "outputs": [
    {
     "data": {
      "text/plain": [
       "True"
      ]
     },
     "execution_count": 65,
     "metadata": {},
     "output_type": "execute_result"
    }
   ],
   "source": [
    "password_kontrol('TCpy34  #$çş ')"
   ]
  },
  {
   "cell_type": "code",
   "execution_count": 66,
   "id": "9eb6a3d5-b0c7-4d95-97b2-53b493078327",
   "metadata": {},
   "outputs": [
    {
     "data": {
      "text/plain": [
       "True"
      ]
     },
     "execution_count": 66,
     "metadata": {},
     "output_type": "execute_result"
    }
   ],
   "source": [
    "password_kontrol('PYkc  06%&ğü ')"
   ]
  },
  {
   "cell_type": "code",
   "execution_count": 67,
   "id": "27be4ae0-8f80-411f-94bd-bc38c1f25612",
   "metadata": {},
   "outputs": [
    {
     "data": {
      "text/plain": [
       "False"
      ]
     },
     "execution_count": 67,
     "metadata": {},
     "output_type": "execute_result"
    }
   ],
   "source": [
    "password_kontrol('Erdeniz1234')"
   ]
  },
  {
   "cell_type": "code",
   "execution_count": 68,
   "id": "ec04f3c8-9466-40fd-8ee0-9dcebfdd2673",
   "metadata": {},
   "outputs": [
    {
     "data": {
      "text/plain": [
       "False"
      ]
     },
     "execution_count": 68,
     "metadata": {},
     "output_type": "execute_result"
    }
   ],
   "source": [
    "password_kontrol(4213234234)"
   ]
  },
  {
   "cell_type": "code",
   "execution_count": 69,
   "id": "b950eb05-124f-4b81-af03-8ef5eb12cc47",
   "metadata": {},
   "outputs": [
    {
     "name": "stdin",
     "output_type": "stream",
     "text": [
      "sifre yaz:  TCpy34  #$çş \n"
     ]
    },
    {
     "name": "stdout",
     "output_type": "stream",
     "text": [
      "hosgeldin\n"
     ]
    }
   ],
   "source": [
    "while True:\n",
    "    try:\n",
    "        sifre=input('sifre yaz: ')\n",
    "        flag_sifre=False\n",
    "        while not password_kontrol(sifre):\n",
    "            print('bu sifre olmaz')\n",
    "            sifre=input('sifre yaz ya da cikis icin ESC yaz: ')\n",
    "            if sifre.lower()=='esc':\n",
    "                print('cikis')\n",
    "                flag_sifre=True\n",
    "                break\n",
    "        if flag_sifre:\n",
    "            break\n",
    "        print('hosgeldin')\n",
    "        break\n",
    "    except Exception as e:\n",
    "        print(f'burada istisna var: {e}')\n",
    "        flag_son_ornek=False\n",
    "        while True:\n",
    "            secim=input('devam icin evet yaz ya da cikis icin esc yaz: ')\n",
    "            if secim.lower()=='esc':\n",
    "                print('cikis')\n",
    "                flag_son_ornek=True\n",
    "                break\n",
    "\n",
    "            elif secim.lower()=='evet':\n",
    "                print('devam')\n",
    "                break \n",
    "\n",
    "            else:\n",
    "                print('arkadasim ne evet yazdin ne de esc yazdin')\n",
    "\n",
    "        if flag_son_ornek:\n",
    "            break    "
   ]
  },
  {
   "cell_type": "code",
   "execution_count": 71,
   "id": "0dd18f66-527c-46a7-a746-00135fc0b4db",
   "metadata": {},
   "outputs": [
    {
     "name": "stdin",
     "output_type": "stream",
     "text": [
      "sifre yaz:  TCpy34  #\n"
     ]
    },
    {
     "name": "stdout",
     "output_type": "stream",
     "text": [
      "bu sifre olmaz\n"
     ]
    },
    {
     "name": "stdin",
     "output_type": "stream",
     "text": [
      "sifre yaz ya da cikis icin ESC yaz:  TCpy34  #$çş \n"
     ]
    },
    {
     "name": "stdout",
     "output_type": "stream",
     "text": [
      "hosgeldin\n"
     ]
    }
   ],
   "source": [
    "while True:\n",
    "    try:\n",
    "        sifre=input('sifre yaz: ')\n",
    "        flag_sifre=False\n",
    "        while not password_kontrol(sifre):\n",
    "            print('bu sifre olmaz')\n",
    "            sifre=input('sifre yaz ya da cikis icin ESC yaz: ')\n",
    "            if sifre.lower()=='esc':\n",
    "                print('cikis')\n",
    "                flag_sifre=True\n",
    "                break\n",
    "        if flag_sifre:\n",
    "            break\n",
    "        print('hosgeldin')\n",
    "        break\n",
    "    except Exception as e:\n",
    "        print(f'burada istisna var: {e}')\n",
    "        flag_son_ornek=False\n",
    "        while True:\n",
    "            secim=input('devam icin evet yaz ya da cikis icin esc yaz: ')\n",
    "            if secim.lower()=='esc':\n",
    "                print('cikis')\n",
    "                flag_son_ornek=True\n",
    "                break\n",
    "\n",
    "            elif secim.lower()=='evet':\n",
    "                print('devam')\n",
    "                break \n",
    "\n",
    "            else:\n",
    "                print('arkadasim ne evet yazdin ne de esc yazdin')\n",
    "\n",
    "        if flag_son_ornek:\n",
    "            break    "
   ]
  },
  {
   "cell_type": "code",
   "execution_count": null,
   "id": "e0942cdd-630e-4214-966f-0c23d3bf9b37",
   "metadata": {},
   "outputs": [],
   "source": []
  }
 ],
 "metadata": {
  "kernelspec": {
   "display_name": "Python 3 (ipykernel)",
   "language": "python",
   "name": "python3"
  },
  "language_info": {
   "codemirror_mode": {
    "name": "ipython",
    "version": 3
   },
   "file_extension": ".py",
   "mimetype": "text/x-python",
   "name": "python",
   "nbconvert_exporter": "python",
   "pygments_lexer": "ipython3",
   "version": "3.8.8"
  }
 },
 "nbformat": 4,
 "nbformat_minor": 5
}
