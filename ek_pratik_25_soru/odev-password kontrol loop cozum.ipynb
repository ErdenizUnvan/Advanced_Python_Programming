{
 "cells": [
  {
   "cell_type": "raw",
   "id": "ff227d0a",
   "metadata": {},
   "source": [
    "#######################################################################"
   ]
  },
  {
   "cell_type": "raw",
   "id": "bd395d55",
   "metadata": {},
   "source": [
    "odev: password kontrol loop\n",
    "\n",
    "dongu yap\n",
    "eger password dogru ise cik\n",
    "eger password yanlis ise tekrar denemek ister misin diye sor\n",
    "eger cevap evet ise; tekrar password olusturmaya calissin\n",
    "eger cevap hayir ise; ciksin\n",
    "\n",
    "#for loopunda try except\n",
    "#except icinde while True\n",
    "\n",
    "#buyuk_harf min >= 2\n",
    "#bosluk >= min 2\n",
    "#digit >= min 2\n",
    "#sembol (#,$@><*()...) >= min 2\n",
    "#ascii kucuk karakter >= min 2\n",
    "#kucuk Turkce karakter >= min 2 (ığüöçş)\n",
    "#uzunluk >= min 13"
   ]
  },
  {
   "cell_type": "code",
   "execution_count": 3,
   "id": "09a48d75-3ebd-4fa3-9daa-65e9d33fb895",
   "metadata": {},
   "outputs": [
    {
     "name": "stdout",
     "output_type": "stream",
     "text": [
      "Lutfen Sifrenizi YazinizTRkc  12#!ş 1\n",
      "Sifre kabul edilmedi:(\n"
     ]
    }
   ],
   "source": [
    "sifre = input('Lutfen Sifrenizi Yaziniz')\n",
    "\n",
    "buyuk_harf=0\n",
    "bosluk = 0\n",
    "digit = 0\n",
    "sembol = 0\n",
    "kucuk_ascii = 0\n",
    "kucuk_tr = 0\n",
    "uzunluk = len(sifre)\n",
    "\n",
    "for karakter in sifre:\n",
    "    if karakter.isupper():\n",
    "        buyuk_harf +=1\n",
    "    elif karakter.isspace():\n",
    "        bosluk +=1\n",
    "    elif karakter.isdigit():\n",
    "        digit +=1\n",
    "    elif not karakter.isalpha():\n",
    "        sembol +=1\n",
    "    elif karakter.islower() and karakter.isascii():\n",
    "        kucuk_ascii +=1\n",
    "    elif karakter.islower() and not karakter.isascii():\n",
    "        kucuk_tr +=1\n",
    "if uzunluk >= 13 and buyuk_harf >= 2 and bosluk >= 2 and digit >= 2 and sembol >= 2 and kucuk_ascii >= 2 and kucuk_tr >= 2:\n",
    "    print('Butun kosullar saglandi. Ailemize hosgeldiniz:)')\n",
    "else:\n",
    "    print('Sifre kabul edilmedi:(')"
   ]
  },
  {
   "cell_type": "code",
   "execution_count": null,
   "id": "6bfed7e7",
   "metadata": {},
   "outputs": [],
   "source": [
    "#cevap:TRkc  12#!şü1"
   ]
  },
  {
   "cell_type": "code",
   "execution_count": 4,
   "id": "587fc937",
   "metadata": {},
   "outputs": [
    {
     "name": "stdout",
     "output_type": "stream",
     "text": [
      "Lutfen Sifrenizi YazinizTRkc  12#!şü1\n",
      "Sifre kabul edilmedi:(\n",
      "{'buyuk_harf': 1, 'bosluk': 0, 'digit': 0, 'sembol': 0, 'kucuk_ascii': 0, 'kucuk_tr': 0, 'uzunluk': 13}\n",
      "burada istisna var: Sifre kabul edilmedi:(\n",
      "devam icin e cikis icin esc yaz: esc\n",
      "cikis\n"
     ]
    }
   ],
   "source": [
    "sifre = input('Lutfen Sifrenizi Yaziniz')\n",
    "\n",
    "\n",
    "for karakter in sifre:\n",
    "    try:\n",
    "        buyuk_harf=0\n",
    "        bosluk = 0\n",
    "        digit = 0\n",
    "        sembol = 0\n",
    "        kucuk_ascii = 0\n",
    "        kucuk_tr = 0\n",
    "        uzunluk = len(sifre)\n",
    "        \n",
    "        if karakter.isupper():\n",
    "            buyuk_harf +=1\n",
    "        elif karakter.isspace():\n",
    "            bosluk +=1\n",
    "        elif karakter.isdigit():\n",
    "            digit +=1\n",
    "        elif not karakter.isalpha():\n",
    "            sembol +=1\n",
    "        elif karakter.islower() and karakter.isascii():\n",
    "            kucuk_ascii +=1\n",
    "        elif karakter.islower() and not karakter.isascii():\n",
    "            kucuk_tr +=1\n",
    "            \n",
    "        if uzunluk >= 13 and buyuk_harf >= 2 and bosluk >= 2 and digit >= 2 and sembol >= 2 and kucuk_ascii >= 2 and kucuk_tr >= 2:\n",
    "            print('Butun kosullar saglandi. Ailemize hosgeldiniz:)')\n",
    "            break\n",
    "        else:\n",
    "            print('Sifre kabul edilmedi:(')\n",
    "            kontrol={'buyuk_harf':buyuk_harf,\n",
    "                    'bosluk':bosluk,\n",
    "                    'digit':digit,\n",
    "                    'sembol':sembol,\n",
    "                    'kucuk_ascii':kucuk_ascii,\n",
    "                    'kucuk_tr':kucuk_tr,\n",
    "                    'uzunluk':uzunluk}\n",
    "            print(kontrol)\n",
    "            raise ValueError('Sifre kabul edilmedi:(')\n",
    "    except Exception as e:\n",
    "        print(f'burada istisna var: {e}')\n",
    "        while True:\n",
    "            flag=False\n",
    "            devam=input('devam icin e cikis icin esc yaz: ')\n",
    "            if devam.lower()=='e':\n",
    "                print('devam')\n",
    "                break\n",
    "            elif devam.lower()=='esc':\n",
    "                flag=True\n",
    "                print('cikis')\n",
    "                break\n",
    "            else:\n",
    "                print('ne e yazdin ne de esc yazdin!')\n",
    "        if flag:\n",
    "            break\n",
    "        sifre = input('Lutfen Sifrenizi Yaziniz')\n",
    "        "
   ]
  },
  {
   "cell_type": "code",
   "execution_count": null,
   "id": "768ea899",
   "metadata": {},
   "outputs": [],
   "source": []
  },
  {
   "cell_type": "code",
   "execution_count": 17,
   "id": "c4199d6f",
   "metadata": {},
   "outputs": [
    {
     "name": "stdout",
     "output_type": "stream",
     "text": [
      "Lütfen Şifrenizi Yazınız: TRkc34  !#şü\n",
      "Şifre kabul edilmedi :(\n",
      "istisna var: Sifre kabul edilmedi:(\n",
      "devam icin e cikis icin esc yaz: e\n",
      "devam\n",
      "Lütfen Şifrenizi Yazınız: TRkc34  !#şü1\n",
      "Bütün koşullar sağlandı. Ailemize hoşgeldiniz :)\n"
     ]
    }
   ],
   "source": [
    "def sifre_kontrol_et(sifre):\n",
    "    buyuk_harf = sum(1 for x in sifre if x.isupper())\n",
    "    bosluk = sum(1 for x in sifre if x.isspace())\n",
    "    digit = sum(1 for x in sifre if x.isdigit())\n",
    "    sembol = sum(1 for x in sifre if not x.isspace() and not x.isalnum())\n",
    "    kucuk_ascii = sum(1 for x in sifre if x.islower() and x.isascii())\n",
    "    kucuk_tr = sum(1 for x in sifre if x.islower() and not x.isascii())\n",
    "    uzunluk = len(sifre)\n",
    "\n",
    "    if (uzunluk >= 13 and buyuk_harf >= 2 and bosluk >= 2 and digit >= 2 and \n",
    "        sembol >= 2 and kucuk_ascii >= 2 and kucuk_tr >= 2):\n",
    "        return True\n",
    "    else:\n",
    "        return False\n",
    "\n",
    "while True:\n",
    "    try:\n",
    "        sifre = input('Lütfen Şifrenizi Yazınız: ')\n",
    "        if sifre_kontrol_et(sifre):\n",
    "            print('Bütün koşullar sağlandı. Ailemize hoşgeldiniz :)')\n",
    "            break\n",
    "        else:\n",
    "            print('Şifre kabul edilmedi :(')\n",
    "            raise ValueError('Sifre kabul edilmedi:(')\n",
    "    except Exception as e:\n",
    "        print(f'istisna var: {e}')\n",
    "        while True:\n",
    "            flag=False\n",
    "            devam=input('devam icin e cikis icin esc yaz: ')\n",
    "            if devam.lower()=='e':\n",
    "                print('devam')\n",
    "                break\n",
    "            elif devam.lower()=='esc':\n",
    "                flag=True\n",
    "                print('cikis')\n",
    "                break\n",
    "            else:\n",
    "                print('ne e yazdin ne de esc yazdin!')\n",
    "        if flag:\n",
    "            break\n"
   ]
  },
  {
   "cell_type": "code",
   "execution_count": 1,
   "id": "266ec6aa",
   "metadata": {},
   "outputs": [
    {
     "data": {
      "text/plain": [
       "'C:\\\\Users\\\\Dell\\\\PIAO\\\\07122024_odev_cozum'"
      ]
     },
     "execution_count": 1,
     "metadata": {},
     "output_type": "execute_result"
    }
   ],
   "source": [
    "pwd"
   ]
  },
  {
   "cell_type": "code",
   "execution_count": null,
   "id": "2630d198",
   "metadata": {},
   "outputs": [],
   "source": []
  }
 ],
 "metadata": {
  "kernelspec": {
   "display_name": "Python 3 (ipykernel)",
   "language": "python",
   "name": "python3"
  },
  "language_info": {
   "codemirror_mode": {
    "name": "ipython",
    "version": 3
   },
   "file_extension": ".py",
   "mimetype": "text/x-python",
   "name": "python",
   "nbconvert_exporter": "python",
   "pygments_lexer": "ipython3",
   "version": "3.11.10"
  }
 },
 "nbformat": 4,
 "nbformat_minor": 5
}
