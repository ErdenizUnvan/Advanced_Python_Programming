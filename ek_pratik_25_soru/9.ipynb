{
 "cells": [
  {
   "cell_type": "code",
   "execution_count": null,
   "id": "55bd178c",
   "metadata": {},
   "outputs": [],
   "source": [
    "sonuc =input('sinav sonucu yaz: ')\n",
    "if not sonuc.isdigit() or int(sonuc) > 100 or int(sonuc) < 0:\n",
    "    print('yanlis veri')\n",
    "else:\n",
    "    sonuc=int(sonuc)\n",
    "    if sonuc >= 85:\n",
    "        print('Cok Iyi')\n",
    "    elif sonuc >=70:\n",
    "        print('Iyi')\n",
    "    elif sonuc >= 55:\n",
    "        print('Orta')\n",
    "    elif sonuc >= 45:\n",
    "        print('Gecer')\n",
    "    else:\n",
    "        print('Kaldi')"
   ]
  },
  {
   "cell_type": "raw",
   "id": "eaa87871",
   "metadata": {},
   "source": [
    "Soru1 : asagidaki sinav sistemi if kosulunu su sekilde yaz:\n",
    "sonuc=input('sonuc: ')\n",
    "\n",
    "while True:\n",
    "    try:\n",
    "        ...\n",
    "    except ...:\n",
    "        ...\n",
    "        \n",
    "-try icinde raise exception kullan\n",
    "\n",
    "-while'dan once sonuc variable'ina input ile klavyeden veri girisi yap\n",
    "\n",
    "-dogru sinav sonucu girilirse, sonucu try da getir ve donguden cik\n",
    "\n",
    "-except ... icinde eger yanlis sonuc girilirse tekardan sonuc variable'ini kullan ve input ile veri gir ya da cikis icin ESC yaz. ESC ise cik, degilse devam \n",
    "\n"
   ]
  },
  {
   "cell_type": "raw",
   "id": "6b2ffdbe",
   "metadata": {},
   "source": [
    "Soru2 : asagidaki sinav sistemi if kosulunu su sekilde yaz:\n",
    "sonuc=input('sonuc: ')\n",
    "\n",
    "while True:\n",
    "    try:\n",
    "        ...\n",
    "    except ...:\n",
    "        ...\n",
    "        \n",
    "-try icinde raise exception kullan\n",
    "\n",
    "-while'da try icinde sonuc variable'ina input ile klavyeden veri girisi yap\n",
    "\n",
    "-dogru sinav sonucu girilirse, sonucu try da getir ve donguden cik\n",
    "\n",
    "-except ... icinde eger yanlis sonuc girilirse subdongu ile devam ya da cikis imkanlarini sagla\n",
    "\n"
   ]
  }
 ],
 "metadata": {
  "kernelspec": {
   "display_name": "Python 3 (ipykernel)",
   "language": "python",
   "name": "python3"
  },
  "language_info": {
   "codemirror_mode": {
    "name": "ipython",
    "version": 3
   },
   "file_extension": ".py",
   "mimetype": "text/x-python",
   "name": "python",
   "nbconvert_exporter": "python",
   "pygments_lexer": "ipython3",
   "version": "3.11.10"
  }
 },
 "nbformat": 4,
 "nbformat_minor": 5
}
