{
 "cells": [
  {
   "cell_type": "raw",
   "id": "f218bb8b-e2d6-48c0-8900-a3960e2d140e",
   "metadata": {},
   "source": [
    "#list\n",
    "#array of data\n",
    "#veri dizini\n",
    "#listeler disindaki butun python veri yapilari: immutable\n",
    "#liste: \n",
    "#[ ile baslar ] ile biter\n",
    "#bir liste icinde neler olabilir:\n",
    "#int, float, bool, str, list, tuple, dict, set"
   ]
  },
  {
   "cell_type": "raw",
   "id": "54824f2d-3cbc-4c41-a02d-84fee76ade7d",
   "metadata": {},
   "source": [
    "#append \n",
    "#index\n",
    "#insert \n",
    "#remove\n",
    "#extend\n",
    "#pop\n",
    "#count\n",
    "#collections/Counter\n",
    "#sort\n",
    "#list comprehension\n",
    "#len()\n",
    "#max()\n",
    "#min()\n",
    "#sum()"
   ]
  },
  {
   "cell_type": "code",
   "execution_count": 1,
   "id": "e9d1d4ce-de86-4235-aaf6-6ce27a3119fa",
   "metadata": {},
   "outputs": [
    {
     "data": {
      "text/plain": [
       "list"
      ]
     },
     "execution_count": 1,
     "metadata": {},
     "output_type": "execute_result"
    }
   ],
   "source": [
    "banka=['TL','Dolar','Euro']\n",
    "type(banka)"
   ]
  },
  {
   "cell_type": "code",
   "execution_count": 2,
   "id": "15d0d55a-11de-4e37-83a2-5e18182e25cc",
   "metadata": {},
   "outputs": [
    {
     "data": {
      "text/plain": [
       "3"
      ]
     },
     "execution_count": 2,
     "metadata": {},
     "output_type": "execute_result"
    }
   ],
   "source": [
    "len(banka)"
   ]
  },
  {
   "cell_type": "code",
   "execution_count": 3,
   "id": "48753665-77a6-4d48-b4e7-7bdfe95e0109",
   "metadata": {},
   "outputs": [
    {
     "data": {
      "text/plain": [
       "['TL', 'Dolar']"
      ]
     },
     "execution_count": 3,
     "metadata": {},
     "output_type": "execute_result"
    }
   ],
   "source": [
    "banka[:-1]"
   ]
  },
  {
   "cell_type": "code",
   "execution_count": 4,
   "id": "fdc37163-6cad-4b1c-aaae-ee7ad12ccc7c",
   "metadata": {},
   "outputs": [
    {
     "data": {
      "text/plain": [
       "'Euro'"
      ]
     },
     "execution_count": 4,
     "metadata": {},
     "output_type": "execute_result"
    }
   ],
   "source": [
    "banka[-1]"
   ]
  },
  {
   "cell_type": "code",
   "execution_count": 5,
   "id": "aa39ac26-6b04-432d-a40c-9e2ffe5bd0bf",
   "metadata": {},
   "outputs": [
    {
     "data": {
      "text/plain": [
       "['Dolar', 'Euro']"
      ]
     },
     "execution_count": 5,
     "metadata": {},
     "output_type": "execute_result"
    }
   ],
   "source": [
    "banka[1:]"
   ]
  },
  {
   "cell_type": "code",
   "execution_count": 6,
   "id": "870a6dfe-b1f5-4a5c-8a13-d7eddaed70e0",
   "metadata": {},
   "outputs": [
    {
     "data": {
      "text/plain": [
       "1"
      ]
     },
     "execution_count": 6,
     "metadata": {},
     "output_type": "execute_result"
    }
   ],
   "source": [
    "#index\n",
    "banka.index('Dolar')"
   ]
  },
  {
   "cell_type": "code",
   "execution_count": 7,
   "id": "5a147cfe-acdf-4e7c-b9f9-27455e56f97c",
   "metadata": {},
   "outputs": [
    {
     "data": {
      "text/plain": [
       "['TL', 'Dolar', 'Euro']"
      ]
     },
     "execution_count": 7,
     "metadata": {},
     "output_type": "execute_result"
    }
   ],
   "source": [
    "banka"
   ]
  },
  {
   "cell_type": "code",
   "execution_count": 8,
   "id": "6c706d9d-626a-4b5c-b7db-1e532a517afc",
   "metadata": {},
   "outputs": [
    {
     "data": {
      "text/plain": [
       "['TL', 'Dolar', 'Euro', 'Pound']"
      ]
     },
     "execution_count": 8,
     "metadata": {},
     "output_type": "execute_result"
    }
   ],
   "source": [
    "banka.append('Pound')\n",
    "banka"
   ]
  },
  {
   "cell_type": "code",
   "execution_count": 9,
   "id": "09cd0961-4143-4da3-8d59-afc4d0248fee",
   "metadata": {},
   "outputs": [
    {
     "data": {
      "text/plain": [
       "4"
      ]
     },
     "execution_count": 9,
     "metadata": {},
     "output_type": "execute_result"
    }
   ],
   "source": [
    "len(banka)"
   ]
  },
  {
   "cell_type": "code",
   "execution_count": 10,
   "id": "5173e851-0b41-4708-b596-df61bc7603e7",
   "metadata": {},
   "outputs": [
    {
     "data": {
      "text/plain": [
       "['TL', 'Yen', 'Dolar', 'Euro', 'Pound']"
      ]
     },
     "execution_count": 10,
     "metadata": {},
     "output_type": "execute_result"
    }
   ],
   "source": [
    "#insert\n",
    "banka.insert(1,'Yen')\n",
    "banka"
   ]
  },
  {
   "cell_type": "code",
   "execution_count": 11,
   "id": "902f0b05-1f83-4c35-9c45-0cee4382285a",
   "metadata": {},
   "outputs": [
    {
     "data": {
      "text/plain": [
       "2"
      ]
     },
     "execution_count": 11,
     "metadata": {},
     "output_type": "execute_result"
    }
   ],
   "source": [
    "banka.index('Dolar')"
   ]
  },
  {
   "cell_type": "code",
   "execution_count": 12,
   "id": "efa6787b-5342-4784-82cc-fda36c8b9a68",
   "metadata": {},
   "outputs": [
    {
     "data": {
      "text/plain": [
       "5"
      ]
     },
     "execution_count": 12,
     "metadata": {},
     "output_type": "execute_result"
    }
   ],
   "source": [
    "len(banka)"
   ]
  },
  {
   "cell_type": "code",
   "execution_count": 13,
   "id": "4db57148-e2a9-4ebf-b9ce-49fa225d96d7",
   "metadata": {},
   "outputs": [
    {
     "data": {
      "text/plain": [
       "['TL', 'Yen', 'Dolar', 'Euro', 'Pound', 'Grivna']"
      ]
     },
     "execution_count": 13,
     "metadata": {},
     "output_type": "execute_result"
    }
   ],
   "source": [
    "#append, index, insert\n",
    "banka.append('Grivna')\n",
    "banka"
   ]
  },
  {
   "cell_type": "code",
   "execution_count": 14,
   "id": "15856ad6-205b-4b2f-9be8-c1b58f236f4c",
   "metadata": {},
   "outputs": [
    {
     "ename": "ValueError",
     "evalue": "list.remove(x): x not in list",
     "output_type": "error",
     "traceback": [
      "\u001b[1;31m--------------------------------------------------------------------\u001b[0m",
      "\u001b[1;31mValueError\u001b[0m                         Traceback (most recent call last)",
      "Cell \u001b[1;32mIn[14], line 1\u001b[0m\n\u001b[1;32m----> 1\u001b[0m \u001b[43mbanka\u001b[49m\u001b[38;5;241;43m.\u001b[39;49m\u001b[43mremove\u001b[49m\u001b[43m(\u001b[49m\u001b[38;5;124;43m'\u001b[39;49m\u001b[38;5;124;43m$\u001b[39;49m\u001b[38;5;124;43m'\u001b[39;49m\u001b[43m)\u001b[49m\n",
      "\u001b[1;31mValueError\u001b[0m: list.remove(x): x not in list"
     ]
    }
   ],
   "source": [
    "banka.remove('$')"
   ]
  },
  {
   "cell_type": "code",
   "execution_count": 15,
   "id": "7bf7e9d2-cd28-4637-aa5c-aff4e405751a",
   "metadata": {},
   "outputs": [],
   "source": [
    "banka.remove('Dolar')"
   ]
  },
  {
   "cell_type": "code",
   "execution_count": 16,
   "id": "df004405-16f3-42e7-8ecf-cb5cf9464b36",
   "metadata": {},
   "outputs": [
    {
     "data": {
      "text/plain": [
       "['TL', 'Yen', 'Euro', 'Pound', 'Grivna']"
      ]
     },
     "execution_count": 16,
     "metadata": {},
     "output_type": "execute_result"
    }
   ],
   "source": [
    "banka"
   ]
  },
  {
   "cell_type": "code",
   "execution_count": 17,
   "id": "5c2a06cc-c515-4fdd-ab9c-9b4b4427ab54",
   "metadata": {},
   "outputs": [
    {
     "data": {
      "text/plain": [
       "[1, 2, 3, 4, [5, 6, 7, 8]]"
      ]
     },
     "execution_count": 17,
     "metadata": {},
     "output_type": "execute_result"
    }
   ],
   "source": [
    "a=[1,2,3,4]\n",
    "b=[5,6,7,8]\n",
    "a.append(b)\n",
    "a"
   ]
  },
  {
   "cell_type": "code",
   "execution_count": 19,
   "id": "12bed2d6-65a7-4879-bcfd-bdf09195182e",
   "metadata": {},
   "outputs": [
    {
     "data": {
      "text/plain": [
       "7"
      ]
     },
     "execution_count": 19,
     "metadata": {},
     "output_type": "execute_result"
    }
   ],
   "source": [
    "a[4][2]"
   ]
  },
  {
   "cell_type": "code",
   "execution_count": 20,
   "id": "e42fb3e2-e43d-47cb-a47c-dc27b11a4e19",
   "metadata": {},
   "outputs": [
    {
     "data": {
      "text/plain": [
       "[1, 2, 3, 4, 5, 6]"
      ]
     },
     "execution_count": 20,
     "metadata": {},
     "output_type": "execute_result"
    }
   ],
   "source": [
    "a1=[1,2,3]\n",
    "b1=[4,5,6]\n",
    "a1.extend(b1)\n",
    "a1"
   ]
  },
  {
   "cell_type": "code",
   "execution_count": 21,
   "id": "810777c3-0ba1-408c-84af-637aa6a41d82",
   "metadata": {},
   "outputs": [
    {
     "data": {
      "text/plain": [
       "['TL', 'Yen', 'Euro', 'Pound', 'Grivna']"
      ]
     },
     "execution_count": 21,
     "metadata": {},
     "output_type": "execute_result"
    }
   ],
   "source": [
    "banka"
   ]
  },
  {
   "cell_type": "code",
   "execution_count": 22,
   "id": "5fca902b-871f-40ae-b487-f418c4ee25c2",
   "metadata": {},
   "outputs": [
    {
     "data": {
      "text/plain": [
       "['TL', 'Yen', 'Euro', 'Pound']"
      ]
     },
     "execution_count": 22,
     "metadata": {},
     "output_type": "execute_result"
    }
   ],
   "source": [
    "banka.pop()\n",
    "banka"
   ]
  },
  {
   "cell_type": "code",
   "execution_count": 23,
   "id": "a474c5bb-e194-488e-9340-e9f6d70ddb54",
   "metadata": {},
   "outputs": [
    {
     "data": {
      "text/plain": [
       "['TL', 'Euro', 'Pound']"
      ]
     },
     "execution_count": 23,
     "metadata": {},
     "output_type": "execute_result"
    }
   ],
   "source": [
    "banka.pop(banka.index('Yen'))\n",
    "banka"
   ]
  },
  {
   "cell_type": "code",
   "execution_count": 24,
   "id": "1fcba58f-1864-420e-907d-d4aae7df3e53",
   "metadata": {},
   "outputs": [
    {
     "data": {
      "text/plain": [
       "1"
      ]
     },
     "execution_count": 24,
     "metadata": {},
     "output_type": "execute_result"
    }
   ],
   "source": [
    "banka.count('TL')"
   ]
  },
  {
   "cell_type": "code",
   "execution_count": 25,
   "id": "4beed6fe-6534-46e6-8ec6-00e35b4a617e",
   "metadata": {},
   "outputs": [
    {
     "data": {
      "text/plain": [
       "Counter({'TL': 1, 'Euro': 1, 'Pound': 1})"
      ]
     },
     "execution_count": 25,
     "metadata": {},
     "output_type": "execute_result"
    }
   ],
   "source": [
    "from collections import Counter\n",
    "Counter(banka)"
   ]
  },
  {
   "cell_type": "code",
   "execution_count": null,
   "id": "256d8502-d9f2-4127-9ff1-3100bf07f5f6",
   "metadata": {},
   "outputs": [],
   "source": [
    "banka1=['TL','Dolar','Euro','TL','TL','TL','TL','Dolar','Euro']"
   ]
  },
  {
   "cell_type": "code",
   "execution_count": 27,
   "id": "3de28f87-cc48-435c-9522-79831099ebdf",
   "metadata": {},
   "outputs": [
    {
     "data": {
      "text/plain": [
       "['Dolar', 'Euro', 'Dolar', 'Euro']"
      ]
     },
     "execution_count": 27,
     "metadata": {},
     "output_type": "execute_result"
    }
   ],
   "source": [
    "banka2=['TL','Dolar','Euro','TL','Dolar','Euro']\n",
    "for x in banka2:\n",
    "    if x =='TL':\n",
    "        banka2.remove(x)\n",
    "banka2"
   ]
  },
  {
   "cell_type": "code",
   "execution_count": 28,
   "id": "977280d9-0e50-4c37-b966-6952498eab98",
   "metadata": {},
   "outputs": [
    {
     "data": {
      "text/plain": [
       "['Dolar', 'Euro', 'TL', 'TL', 'Dolar', 'Euro']"
      ]
     },
     "execution_count": 28,
     "metadata": {},
     "output_type": "execute_result"
    }
   ],
   "source": [
    "banka1=['TL','Dolar','Euro','TL','TL','TL','TL','Dolar','Euro']\n",
    "for x in banka1:\n",
    "    if x =='TL':\n",
    "        banka1.remove(x)\n",
    "banka1"
   ]
  },
  {
   "cell_type": "code",
   "execution_count": 29,
   "id": "f496fa05-cd3c-4d12-8b21-1e9677e2ef49",
   "metadata": {},
   "outputs": [
    {
     "data": {
      "text/plain": [
       "['Dolar', 'Euro', 'Dolar', 'Euro']"
      ]
     },
     "execution_count": 29,
     "metadata": {},
     "output_type": "execute_result"
    }
   ],
   "source": [
    "banka1=['TL','Dolar','Euro','TL','TL','TL','TL','Dolar','Euro']\n",
    "while 'TL' in banka1:\n",
    "    banka1.remove('TL')\n",
    "banka1"
   ]
  },
  {
   "cell_type": "code",
   "execution_count": 30,
   "id": "1b324616-e695-4df9-8165-9cd79755f269",
   "metadata": {},
   "outputs": [],
   "source": [
    "def listeden_TL_silme(my_list):\n",
    "    if isinstance(my_list,list) and 'TL' in my_list:\n",
    "        yeni_list=[]\n",
    "        for x in my_list:\n",
    "            if x!='TL':\n",
    "                yeni_list.append(x)\n",
    "        return yeni_list\n",
    "    else:\n",
    "        return False"
   ]
  },
  {
   "cell_type": "code",
   "execution_count": 31,
   "id": "d3019157-28a8-444c-8b00-03b4653a37b9",
   "metadata": {},
   "outputs": [
    {
     "data": {
      "text/plain": [
       "['Dolar', 'Euro', 'Dolar', 'Euro']"
      ]
     },
     "execution_count": 31,
     "metadata": {},
     "output_type": "execute_result"
    }
   ],
   "source": [
    "banka1=['TL','Dolar','Euro','TL','TL','TL','TL','Dolar','Euro']\n",
    "banka1=listeden_TL_silme(banka1)\n",
    "banka1"
   ]
  },
  {
   "cell_type": "code",
   "execution_count": 32,
   "id": "339127a0-8f7f-4430-ac66-7f0a834897df",
   "metadata": {},
   "outputs": [
    {
     "data": {
      "text/plain": [
       "['Dolar', 'Euro', 'Dolar', 'Euro']"
      ]
     },
     "execution_count": 32,
     "metadata": {},
     "output_type": "execute_result"
    }
   ],
   "source": [
    "banka1=['TL','Dolar','Euro','TL','TL','TL','TL','Dolar','Euro']\n",
    "banka1=[x for x in banka1 if x!='TL']\n",
    "banka1"
   ]
  },
  {
   "cell_type": "code",
   "execution_count": 33,
   "id": "79eafc50-be69-4a7e-80ad-e0e684c2470e",
   "metadata": {},
   "outputs": [
    {
     "data": {
      "text/plain": [
       "0"
      ]
     },
     "execution_count": 33,
     "metadata": {},
     "output_type": "execute_result"
    }
   ],
   "source": [
    "banka1=['TL','Dolar','Euro','TL','TL','TL','TL','Dolar','Euro']\n",
    "banka1.index('TL')"
   ]
  },
  {
   "cell_type": "code",
   "execution_count": 34,
   "id": "0f8cc5ef-3c86-4de2-9a71-54789e7d3aee",
   "metadata": {},
   "outputs": [
    {
     "data": {
      "text/plain": [
       "[(0, 'TL'),\n",
       " (1, 'Dolar'),\n",
       " (2, 'Euro'),\n",
       " (3, 'TL'),\n",
       " (4, 'TL'),\n",
       " (5, 'TL'),\n",
       " (6, 'TL'),\n",
       " (7, 'Dolar'),\n",
       " (8, 'Euro')]"
      ]
     },
     "execution_count": 34,
     "metadata": {},
     "output_type": "execute_result"
    }
   ],
   "source": [
    "list(enumerate(banka1))"
   ]
  },
  {
   "cell_type": "code",
   "execution_count": 36,
   "id": "b74f5f58-2777-47da-84ce-1f6b7c217454",
   "metadata": {},
   "outputs": [
    {
     "data": {
      "text/plain": [
       "['TC', 'Dolar', 'Euro', 'TC', 'TC', 'TC', 'TC', 'Dolar', 'Euro']"
      ]
     },
     "execution_count": 36,
     "metadata": {},
     "output_type": "execute_result"
    }
   ],
   "source": [
    "#butun TL'leri TC'ye cevir\n",
    "banka1=['TL','Dolar','Euro','TL','TL','TL','TL','Dolar','Euro']\n",
    "for x in banka1:\n",
    "    if x =='TL':\n",
    "        my_index=banka1.index(x)\n",
    "        banka1.pop(my_index)\n",
    "        banka1.insert(my_index,'TC')\n",
    "banka1"
   ]
  },
  {
   "cell_type": "code",
   "execution_count": 37,
   "id": "a316fc4c-512d-40aa-a5fe-592fc26f65e0",
   "metadata": {},
   "outputs": [
    {
     "data": {
      "text/plain": [
       "'Erdeniz Hoca'"
      ]
     },
     "execution_count": 37,
     "metadata": {},
     "output_type": "execute_result"
    }
   ],
   "source": [
    "mesaj='Erdeniz Hoca'\n",
    "mesaj1=mesaj.replace('instructor','egitmen')\n",
    "mesaj1"
   ]
  },
  {
   "cell_type": "code",
   "execution_count": 38,
   "id": "0a46d9b7-52a3-4b60-b9b8-ae1320ee18e5",
   "metadata": {},
   "outputs": [
    {
     "data": {
      "text/plain": [
       "'Erdeniz Egitmen'"
      ]
     },
     "execution_count": 38,
     "metadata": {},
     "output_type": "execute_result"
    }
   ],
   "source": [
    "mesaj='Erdeniz Hoca'\n",
    "mesaj2=mesaj.replace('Hoca','Egitmen')\n",
    "mesaj2"
   ]
  },
  {
   "cell_type": "code",
   "execution_count": 39,
   "id": "568ff8a5-c1e5-407b-b964-b3785a582b43",
   "metadata": {},
   "outputs": [
    {
     "data": {
      "text/plain": [
       "['TC', 'Dolar', 'Euro', 'TC', 'TC', 'TC', 'TC', 'Dolar', 'Euro']"
      ]
     },
     "execution_count": 39,
     "metadata": {},
     "output_type": "execute_result"
    }
   ],
   "source": [
    "banka1=['TL','Dolar','Euro','TL','TL','TL','TL','Dolar','Euro']\n",
    "banka1=[x.replace('TL','TC') for x in banka1]\n",
    "banka1"
   ]
  },
  {
   "cell_type": "code",
   "execution_count": 40,
   "id": "aa4a75f9-81af-4148-8e0c-7b6282223173",
   "metadata": {},
   "outputs": [
    {
     "data": {
      "text/plain": [
       "Counter({'TC': 5, 'Dolar': 2, 'Euro': 2})"
      ]
     },
     "execution_count": 40,
     "metadata": {},
     "output_type": "execute_result"
    }
   ],
   "source": [
    "banka1\n",
    "Counter(banka1)"
   ]
  },
  {
   "cell_type": "code",
   "execution_count": null,
   "id": "9189dd80-a074-48eb-a3e0-298c96ab2e7d",
   "metadata": {},
   "outputs": [],
   "source": [
    "#13:55 mola"
   ]
  },
  {
   "cell_type": "code",
   "execution_count": null,
   "id": "b883a6f9-3447-498b-9b16-30e215356381",
   "metadata": {},
   "outputs": [],
   "source": [
    "#tuple demet\n",
    "#set no duplicate {}"
   ]
  },
  {
   "cell_type": "code",
   "execution_count": 41,
   "id": "825e0ef7-7f77-4b85-af79-971a9c71c0eb",
   "metadata": {},
   "outputs": [
    {
     "data": {
      "text/plain": [
       "set"
      ]
     },
     "execution_count": 41,
     "metadata": {},
     "output_type": "execute_result"
    }
   ],
   "source": [
    "banka=['TC', 'Dolar', 'Euro', 'TC', 'TC', 'TC', 'TC', 'Dolar', 'Euro']\n",
    "banka=set(banka)\n",
    "type(banka)"
   ]
  },
  {
   "cell_type": "code",
   "execution_count": 42,
   "id": "2dcfdc0a-1856-4e97-93a8-773c2c035ced",
   "metadata": {},
   "outputs": [
    {
     "data": {
      "text/plain": [
       "{'Dolar', 'Euro', 'TC'}"
      ]
     },
     "execution_count": 42,
     "metadata": {},
     "output_type": "execute_result"
    }
   ],
   "source": [
    "banka"
   ]
  },
  {
   "cell_type": "code",
   "execution_count": 43,
   "id": "dbc98d3a-d7b9-4c02-a500-d25f6dca894f",
   "metadata": {},
   "outputs": [
    {
     "data": {
      "text/plain": [
       "tuple"
      ]
     },
     "execution_count": 43,
     "metadata": {},
     "output_type": "execute_result"
    }
   ],
   "source": [
    "#tuple ( ile baslar ) ile biter\n",
    "banka=['TC', 'Dolar', 'Euro', 'TC', 'TC', 'TC', 'TC', 'Dolar', 'Euro']\n",
    "my_banka=tuple(banka)\n",
    "type(my_banka)"
   ]
  },
  {
   "cell_type": "code",
   "execution_count": 44,
   "id": "83f6ad5b-1eb1-496b-843c-8bc6d00b1efd",
   "metadata": {},
   "outputs": [
    {
     "data": {
      "text/plain": [
       "('TC', 'Dolar', 'Euro', 'TC', 'TC', 'TC', 'TC', 'Dolar', 'Euro')"
      ]
     },
     "execution_count": 44,
     "metadata": {},
     "output_type": "execute_result"
    }
   ],
   "source": [
    "my_banka"
   ]
  },
  {
   "cell_type": "code",
   "execution_count": 45,
   "id": "b5c592f9-4b12-4c3d-9309-e88e70b005f4",
   "metadata": {},
   "outputs": [
    {
     "data": {
      "text/plain": [
       "[1, 2, 3, [4, 5, 6]]"
      ]
     },
     "execution_count": 45,
     "metadata": {},
     "output_type": "execute_result"
    }
   ],
   "source": [
    "a=[1,2,3]\n",
    "b=[4,5,6]\n",
    "a.append(b)\n",
    "a"
   ]
  },
  {
   "cell_type": "code",
   "execution_count": 46,
   "id": "463d41b3-2f97-4c15-a628-b07aa76f303c",
   "metadata": {},
   "outputs": [
    {
     "data": {
      "text/plain": [
       "4"
      ]
     },
     "execution_count": 46,
     "metadata": {},
     "output_type": "execute_result"
    }
   ],
   "source": [
    "len(a)"
   ]
  },
  {
   "cell_type": "code",
   "execution_count": 47,
   "id": "c7433b76-53ff-40ab-932b-cb8cc5f3cbd7",
   "metadata": {},
   "outputs": [
    {
     "data": {
      "text/plain": [
       "list"
      ]
     },
     "execution_count": 47,
     "metadata": {},
     "output_type": "execute_result"
    }
   ],
   "source": [
    "type(a)"
   ]
  },
  {
   "cell_type": "code",
   "execution_count": 48,
   "id": "e1e45b6f-6455-4c7e-b40b-bcd682c98d90",
   "metadata": {},
   "outputs": [
    {
     "data": {
      "text/plain": [
       "(1, 2, 3, [4, 5, 6])"
      ]
     },
     "execution_count": 48,
     "metadata": {},
     "output_type": "execute_result"
    }
   ],
   "source": [
    "a1=tuple(a)\n",
    "a1"
   ]
  },
  {
   "cell_type": "code",
   "execution_count": 49,
   "id": "822f459e-0aee-4ecc-8594-e55bcf7e2909",
   "metadata": {},
   "outputs": [
    {
     "data": {
      "text/plain": [
       "tuple"
      ]
     },
     "execution_count": 49,
     "metadata": {},
     "output_type": "execute_result"
    }
   ],
   "source": [
    "type(a1)"
   ]
  },
  {
   "cell_type": "code",
   "execution_count": 52,
   "id": "c0a90eda-37bd-410a-9194-8b0178ceb865",
   "metadata": {},
   "outputs": [
    {
     "data": {
      "text/plain": [
       "int"
      ]
     },
     "execution_count": 52,
     "metadata": {},
     "output_type": "execute_result"
    }
   ],
   "source": [
    "type(a1[2])"
   ]
  },
  {
   "cell_type": "code",
   "execution_count": 53,
   "id": "18e7a4d9-4d4a-466d-87a0-3636f020b8ad",
   "metadata": {},
   "outputs": [
    {
     "data": {
      "text/plain": [
       "list"
      ]
     },
     "execution_count": 53,
     "metadata": {},
     "output_type": "execute_result"
    }
   ],
   "source": [
    "type(a1[3])"
   ]
  },
  {
   "cell_type": "code",
   "execution_count": 55,
   "id": "225e82a3-34e7-4585-b00d-a88588c04bc3",
   "metadata": {},
   "outputs": [
    {
     "data": {
      "text/plain": [
       "(1, 2, 3, [4, 5, 6, 'Erdeniz'])"
      ]
     },
     "execution_count": 55,
     "metadata": {},
     "output_type": "execute_result"
    }
   ],
   "source": [
    "a1[3].append('Erdeniz')\n",
    "a1"
   ]
  },
  {
   "cell_type": "code",
   "execution_count": null,
   "id": "f5c731a2-8592-414a-8bfe-3289ef3e805b",
   "metadata": {},
   "outputs": [],
   "source": [
    "#dictionary\n",
    "#sozluk\n",
    "#merhaba=>hello\n",
    "#anahar:deger\n",
    "#key:value\n",
    "#{ ile baslar } ile biter\n",
    "#{k1:v1,k2:v2,......,kn:vn}"
   ]
  },
  {
   "cell_type": "code",
   "execution_count": 56,
   "id": "fe98b019-b9ed-42bc-96a0-328727d82730",
   "metadata": {},
   "outputs": [
    {
     "data": {
      "text/plain": [
       "dict"
      ]
     },
     "execution_count": 56,
     "metadata": {},
     "output_type": "execute_result"
    }
   ],
   "source": [
    "banka_hesabi={'TL':2,'Dolar':3}\n",
    "type(banka_hesabi)"
   ]
  },
  {
   "cell_type": "code",
   "execution_count": 57,
   "id": "3af56856-0881-4207-8a5f-080abb71530e",
   "metadata": {},
   "outputs": [
    {
     "data": {
      "text/plain": [
       "2"
      ]
     },
     "execution_count": 57,
     "metadata": {},
     "output_type": "execute_result"
    }
   ],
   "source": [
    "len(banka_hesabi)"
   ]
  },
  {
   "cell_type": "code",
   "execution_count": 58,
   "id": "89019781-96ae-4b43-b3bb-5d387aab31af",
   "metadata": {},
   "outputs": [
    {
     "data": {
      "text/plain": [
       "{'TL': 2, 'Dolar': 3, 'Euro': 1}"
      ]
     },
     "execution_count": 58,
     "metadata": {},
     "output_type": "execute_result"
    }
   ],
   "source": [
    "banka_hesabi['Euro']=1\n",
    "banka_hesabi"
   ]
  },
  {
   "cell_type": "code",
   "execution_count": 59,
   "id": "7223e465-fb5c-45c0-99a1-5affd7d5bfd1",
   "metadata": {},
   "outputs": [
    {
     "data": {
      "text/plain": [
       "3"
      ]
     },
     "execution_count": 59,
     "metadata": {},
     "output_type": "execute_result"
    }
   ],
   "source": [
    "len(banka_hesabi)"
   ]
  },
  {
   "cell_type": "code",
   "execution_count": 60,
   "id": "de9087bc-c042-42b5-bdd8-23ee19731995",
   "metadata": {},
   "outputs": [
    {
     "data": {
      "text/plain": [
       "2"
      ]
     },
     "execution_count": 60,
     "metadata": {},
     "output_type": "execute_result"
    }
   ],
   "source": [
    "banka_hesabi['TL']"
   ]
  },
  {
   "cell_type": "code",
   "execution_count": 61,
   "id": "564fd110-7f9b-4d28-97ca-babf76cc9c24",
   "metadata": {},
   "outputs": [
    {
     "data": {
      "text/plain": [
       "3"
      ]
     },
     "execution_count": 61,
     "metadata": {},
     "output_type": "execute_result"
    }
   ],
   "source": [
    "banka_hesabi['Dolar']"
   ]
  },
  {
   "cell_type": "code",
   "execution_count": 62,
   "id": "0a21d513-eb07-469f-a81b-1a51459bf6fe",
   "metadata": {},
   "outputs": [
    {
     "data": {
      "text/plain": [
       "1"
      ]
     },
     "execution_count": 62,
     "metadata": {},
     "output_type": "execute_result"
    }
   ],
   "source": [
    "banka_hesabi['Euro']"
   ]
  },
  {
   "cell_type": "code",
   "execution_count": 63,
   "id": "fbb63455-7966-48c5-9f59-8f9e5f759bfe",
   "metadata": {},
   "outputs": [
    {
     "data": {
      "text/plain": [
       "2"
      ]
     },
     "execution_count": 63,
     "metadata": {},
     "output_type": "execute_result"
    }
   ],
   "source": [
    "banka_hesabi.get('TL')"
   ]
  },
  {
   "cell_type": "code",
   "execution_count": 64,
   "id": "00de820b-ff7c-481c-8e60-e0d976af78cc",
   "metadata": {},
   "outputs": [
    {
     "data": {
      "text/plain": [
       "3"
      ]
     },
     "execution_count": 64,
     "metadata": {},
     "output_type": "execute_result"
    }
   ],
   "source": [
    "banka_hesabi.get('Dolar')"
   ]
  },
  {
   "cell_type": "code",
   "execution_count": 65,
   "id": "3e45e2a1-c496-47e9-8026-3493449bf196",
   "metadata": {},
   "outputs": [
    {
     "data": {
      "text/plain": [
       "1"
      ]
     },
     "execution_count": 65,
     "metadata": {},
     "output_type": "execute_result"
    }
   ],
   "source": [
    "banka_hesabi.get('Euro')"
   ]
  },
  {
   "cell_type": "code",
   "execution_count": 66,
   "id": "1713289b-5d07-42c6-b0d3-b14ed8f78f9a",
   "metadata": {},
   "outputs": [],
   "source": [
    "banka_hesabi.get('Erdeniz')"
   ]
  },
  {
   "cell_type": "code",
   "execution_count": 67,
   "id": "e993ca7b-2edb-4a51-999c-5048af5114ce",
   "metadata": {},
   "outputs": [
    {
     "ename": "KeyError",
     "evalue": "'Erdeniz'",
     "output_type": "error",
     "traceback": [
      "\u001b[1;31m--------------------------------------------------------------------\u001b[0m",
      "\u001b[1;31mKeyError\u001b[0m                           Traceback (most recent call last)",
      "Cell \u001b[1;32mIn[67], line 1\u001b[0m\n\u001b[1;32m----> 1\u001b[0m \u001b[43mbanka_hesabi\u001b[49m\u001b[43m[\u001b[49m\u001b[38;5;124;43m'\u001b[39;49m\u001b[38;5;124;43mErdeniz\u001b[39;49m\u001b[38;5;124;43m'\u001b[39;49m\u001b[43m]\u001b[49m\n",
      "\u001b[1;31mKeyError\u001b[0m: 'Erdeniz'"
     ]
    }
   ],
   "source": [
    "banka_hesabi['Erdeniz']"
   ]
  },
  {
   "cell_type": "code",
   "execution_count": 69,
   "id": "72f2c30b-0a9d-4955-ba3a-1d62afaa0f4d",
   "metadata": {},
   "outputs": [
    {
     "name": "stdout",
     "output_type": "stream",
     "text": [
      "None\n"
     ]
    }
   ],
   "source": [
    "a=banka_hesabi.get('Erdeniz',None)\n",
    "print(a)"
   ]
  },
  {
   "cell_type": "code",
   "execution_count": 70,
   "id": "b84ca787-95a7-4df1-afb9-7c6f65715205",
   "metadata": {},
   "outputs": [
    {
     "name": "stdout",
     "output_type": "stream",
     "text": [
      "None\n"
     ]
    }
   ],
   "source": [
    "a=banka_hesabi.get('Erdeniz')\n",
    "print(a)"
   ]
  },
  {
   "cell_type": "code",
   "execution_count": 71,
   "id": "823bd452-ce68-437f-a7ee-c5510ce08973",
   "metadata": {},
   "outputs": [
    {
     "name": "stdout",
     "output_type": "stream",
     "text": [
      "0\n"
     ]
    }
   ],
   "source": [
    "b=banka_hesabi.get('Erdeniz',0)\n",
    "print(b)"
   ]
  },
  {
   "cell_type": "code",
   "execution_count": 72,
   "id": "26907808-ff93-4154-b457-19b32c156220",
   "metadata": {},
   "outputs": [
    {
     "data": {
      "text/plain": [
       "{'TL': 2, 'Dolar': 3, 'Euro': 1}"
      ]
     },
     "execution_count": 72,
     "metadata": {},
     "output_type": "execute_result"
    }
   ],
   "source": [
    "banka_hesabi"
   ]
  },
  {
   "cell_type": "code",
   "execution_count": 73,
   "id": "80d4a811-bd13-4c5a-93eb-b34d4099d13f",
   "metadata": {},
   "outputs": [
    {
     "data": {
      "text/plain": [
       "{'TL': 2, 'Dolar': 3, 'Euro': 1, 'Yen': 5}"
      ]
     },
     "execution_count": 73,
     "metadata": {},
     "output_type": "execute_result"
    }
   ],
   "source": [
    "banka_hesabi['Yen']=5\n",
    "banka_hesabi"
   ]
  },
  {
   "cell_type": "code",
   "execution_count": 74,
   "id": "31fb5c4a-a73c-469f-ad15-5276dc328794",
   "metadata": {},
   "outputs": [
    {
     "data": {
      "text/plain": [
       "{'TL': 2, 'Euro': 1, 'Yen': 5}"
      ]
     },
     "execution_count": 74,
     "metadata": {},
     "output_type": "execute_result"
    }
   ],
   "source": [
    "banka_hesabi.pop('Dolar')\n",
    "banka_hesabi"
   ]
  },
  {
   "cell_type": "code",
   "execution_count": 75,
   "id": "b4c9d172-f2fa-4026-abcc-38da37605f1c",
   "metadata": {},
   "outputs": [
    {
     "data": {
      "text/plain": [
       "{'TL': 2, 'Euro': 1}"
      ]
     },
     "execution_count": 75,
     "metadata": {},
     "output_type": "execute_result"
    }
   ],
   "source": [
    "del banka_hesabi['Yen']\n",
    "banka_hesabi"
   ]
  },
  {
   "cell_type": "code",
   "execution_count": 76,
   "id": "aa123016-eb5b-4796-924d-206bff32072e",
   "metadata": {},
   "outputs": [
    {
     "data": {
      "text/plain": [
       "{'TL': 3, 'Euro': 1}"
      ]
     },
     "execution_count": 76,
     "metadata": {},
     "output_type": "execute_result"
    }
   ],
   "source": [
    "banka_hesabi['TL']=3\n",
    "banka_hesabi"
   ]
  },
  {
   "cell_type": "code",
   "execution_count": 77,
   "id": "e904f235-9da2-47f6-880b-22a78b3a23bb",
   "metadata": {},
   "outputs": [
    {
     "data": {
      "text/plain": [
       "{'TL': 3, 'Euro': 1}"
      ]
     },
     "execution_count": 77,
     "metadata": {},
     "output_type": "execute_result"
    }
   ],
   "source": [
    "banka_hesabi"
   ]
  },
  {
   "cell_type": "code",
   "execution_count": 78,
   "id": "e196f6fa-0db3-4d78-8efb-f2daa94d6fe6",
   "metadata": {},
   "outputs": [
    {
     "name": "stdout",
     "output_type": "stream",
     "text": [
      "TL\n",
      "Euro\n"
     ]
    }
   ],
   "source": [
    "for x in banka_hesabi:\n",
    "    print(x)"
   ]
  },
  {
   "cell_type": "code",
   "execution_count": 79,
   "id": "87a3e461-f784-416a-857c-ba8ff8b39f97",
   "metadata": {},
   "outputs": [
    {
     "data": {
      "text/plain": [
       "list"
      ]
     },
     "execution_count": 79,
     "metadata": {},
     "output_type": "execute_result"
    }
   ],
   "source": [
    "data=[{'T':'NA','L':'Netmiko'},\n",
    "      {'T':'DS','L':'Pandas'},\n",
    "      {'T':'ML','L':'Scipy'},\n",
    "      {'T':'DL','L':'Keras'},\n",
    "      {'T':'RPA','L':'Requests'},\n",
    "      {'T':'GenAI','L':'Transformers'}\n",
    "    ]\n",
    "type(data)"
   ]
  },
  {
   "cell_type": "code",
   "execution_count": 80,
   "id": "5138a7e6-1d63-4265-bb24-679dfbc30e63",
   "metadata": {},
   "outputs": [
    {
     "data": {
      "text/plain": [
       "6"
      ]
     },
     "execution_count": 80,
     "metadata": {},
     "output_type": "execute_result"
    }
   ],
   "source": [
    "len(data)"
   ]
  },
  {
   "cell_type": "code",
   "execution_count": 81,
   "id": "fd244351-e15d-4a1e-8c6c-b9ccea1b254d",
   "metadata": {},
   "outputs": [
    {
     "name": "stdout",
     "output_type": "stream",
     "text": [
      "{'T': 'NA', 'L': 'Netmiko'}\n",
      "{'T': 'DS', 'L': 'Pandas'}\n",
      "{'T': 'ML', 'L': 'Scipy'}\n",
      "{'T': 'DL', 'L': 'Keras'}\n",
      "{'T': 'RPA', 'L': 'Requests'}\n",
      "{'T': 'GenAI', 'L': 'Transformers'}\n"
     ]
    }
   ],
   "source": [
    "for x in data:\n",
    "    print(x)"
   ]
  },
  {
   "cell_type": "code",
   "execution_count": 82,
   "id": "26d2bfbf-e8cd-4850-8768-6e44091319a0",
   "metadata": {},
   "outputs": [
    {
     "name": "stdout",
     "output_type": "stream",
     "text": [
      "NA\n",
      "DS\n",
      "ML\n",
      "DL\n",
      "RPA\n",
      "GenAI\n"
     ]
    }
   ],
   "source": [
    "for x in data:\n",
    "    print(x['T'])"
   ]
  },
  {
   "cell_type": "code",
   "execution_count": 83,
   "id": "b1ae482b-8988-4230-b79e-2bcb1f540d93",
   "metadata": {},
   "outputs": [
    {
     "name": "stdout",
     "output_type": "stream",
     "text": [
      "Netmiko\n",
      "Pandas\n",
      "Scipy\n",
      "Keras\n",
      "Requests\n",
      "Transformers\n"
     ]
    }
   ],
   "source": [
    "for x in data:\n",
    "    print(x['L'])"
   ]
  },
  {
   "cell_type": "code",
   "execution_count": 85,
   "id": "fe6dab61-d7ac-48bf-9925-bee4d21ab68b",
   "metadata": {},
   "outputs": [
    {
     "name": "stdout",
     "output_type": "stream",
     "text": [
      "RPA\n"
     ]
    }
   ],
   "source": [
    "for x in data:\n",
    "    if x['L']=='Requests':\n",
    "        print(x['T'])"
   ]
  },
  {
   "cell_type": "code",
   "execution_count": 86,
   "id": "9a34ff41-20dd-482b-a4e7-ae44f5bb5acf",
   "metadata": {},
   "outputs": [],
   "source": [
    "data1=[{'T':'NA','L':'Netmiko'},\n",
    "      {'T':'DS','L':'Pandas'},\n",
    "      {'T':'ML','L':'Scipy'},\n",
    "      {'T':'DL','L':'Keras'},\n",
    "      {'T':'RPA'},\n",
    "      {'T':'GenAI','L':'Transformers'}\n",
    "    ]\n"
   ]
  },
  {
   "cell_type": "code",
   "execution_count": 89,
   "id": "a56d7968-80f9-414f-9c89-2011a6fcbef5",
   "metadata": {},
   "outputs": [
    {
     "name": "stdout",
     "output_type": "stream",
     "text": [
      "NA\n",
      "DS\n",
      "ML\n",
      "DL\n",
      "RPA\n",
      "GenAI\n"
     ]
    }
   ],
   "source": [
    "for x in data1:\n",
    "    print(x['T'])"
   ]
  },
  {
   "cell_type": "code",
   "execution_count": 90,
   "id": "58b6c255-d61f-4a48-a01e-fd7d880d8889",
   "metadata": {},
   "outputs": [
    {
     "name": "stdout",
     "output_type": "stream",
     "text": [
      "Netmiko\n",
      "Pandas\n",
      "Scipy\n",
      "Keras\n"
     ]
    },
    {
     "ename": "KeyError",
     "evalue": "'L'",
     "output_type": "error",
     "traceback": [
      "\u001b[1;31m--------------------------------------------------------------------\u001b[0m",
      "\u001b[1;31mKeyError\u001b[0m                           Traceback (most recent call last)",
      "Cell \u001b[1;32mIn[90], line 2\u001b[0m\n\u001b[0;32m      1\u001b[0m \u001b[38;5;28;01mfor\u001b[39;00m x \u001b[38;5;129;01min\u001b[39;00m data1:\n\u001b[1;32m----> 2\u001b[0m     \u001b[38;5;28mprint\u001b[39m(\u001b[43mx\u001b[49m\u001b[43m[\u001b[49m\u001b[38;5;124;43m'\u001b[39;49m\u001b[38;5;124;43mL\u001b[39;49m\u001b[38;5;124;43m'\u001b[39;49m\u001b[43m]\u001b[49m)\n",
      "\u001b[1;31mKeyError\u001b[0m: 'L'"
     ]
    }
   ],
   "source": [
    "for x in data1:\n",
    "    print(x['L'])"
   ]
  },
  {
   "cell_type": "code",
   "execution_count": 91,
   "id": "b9df89f6-a986-4cd7-81b6-ec9d2252278b",
   "metadata": {},
   "outputs": [
    {
     "name": "stdout",
     "output_type": "stream",
     "text": [
      "Netmiko\n",
      "Pandas\n",
      "Scipy\n",
      "Keras\n",
      "Transformers\n"
     ]
    }
   ],
   "source": [
    "data1=[{'T':'NA','L':'Netmiko'},\n",
    "      {'T':'DS','L':'Pandas'},\n",
    "      {'T':'ML','L':'Scipy'},\n",
    "      {'T':'DL','L':'Keras'},\n",
    "      {'T':'RPA'},\n",
    "      {'T':'GenAI','L':'Transformers'}\n",
    "    ]\n",
    "for x in data1:\n",
    "    if 'L' in x:\n",
    "        print(x['L'])"
   ]
  },
  {
   "cell_type": "code",
   "execution_count": 92,
   "id": "0763e71a-b494-4420-a628-b03f1c1038c3",
   "metadata": {},
   "outputs": [
    {
     "name": "stdout",
     "output_type": "stream",
     "text": [
      "T:NA ve L:Netmiko\n",
      "T:DS ve L:Pandas\n",
      "T:ML ve L:Scipy\n",
      "T:DL ve L:Keras\n",
      "T:GenAI ve L:Transformers\n"
     ]
    }
   ],
   "source": [
    "for x in data1:\n",
    "    T=x.get('T',None)\n",
    "    L=x.get('L',None)\n",
    "    if T!=None and L!=None:\n",
    "        print(f'T:{T} ve L:{L}')"
   ]
  },
  {
   "cell_type": "code",
   "execution_count": 93,
   "id": "32386e67-5917-4ff4-81ec-62ab6494d84b",
   "metadata": {},
   "outputs": [
    {
     "data": {
      "text/plain": [
       "{'TL': 3, 'Euro': 1}"
      ]
     },
     "execution_count": 93,
     "metadata": {},
     "output_type": "execute_result"
    }
   ],
   "source": [
    "banka_hesabi"
   ]
  },
  {
   "cell_type": "code",
   "execution_count": 94,
   "id": "7154ed43-3b4f-44cf-adf6-a6d71d4859ab",
   "metadata": {},
   "outputs": [
    {
     "data": {
      "text/plain": [
       "dict_keys(['TL', 'Euro'])"
      ]
     },
     "execution_count": 94,
     "metadata": {},
     "output_type": "execute_result"
    }
   ],
   "source": [
    "banka_hesabi.keys()"
   ]
  },
  {
   "cell_type": "code",
   "execution_count": 95,
   "id": "d11185a5-cfbf-410b-b96f-5bb6dba5baf2",
   "metadata": {},
   "outputs": [
    {
     "data": {
      "text/plain": [
       "dict_values([3, 1])"
      ]
     },
     "execution_count": 95,
     "metadata": {},
     "output_type": "execute_result"
    }
   ],
   "source": [
    "banka_hesabi.values()"
   ]
  },
  {
   "cell_type": "code",
   "execution_count": 96,
   "id": "1aef15b7-a11b-4b3f-a4ff-de2a2eedea35",
   "metadata": {},
   "outputs": [
    {
     "data": {
      "text/plain": [
       "dict_items([('TL', 3), ('Euro', 1)])"
      ]
     },
     "execution_count": 96,
     "metadata": {},
     "output_type": "execute_result"
    }
   ],
   "source": [
    "banka_hesabi.items()"
   ]
  },
  {
   "cell_type": "code",
   "execution_count": 97,
   "id": "9bf9162d-2d02-437c-83ef-c18744e5086f",
   "metadata": {},
   "outputs": [
    {
     "name": "stdout",
     "output_type": "stream",
     "text": [
      "('TL', 3)\n",
      "('Euro', 1)\n"
     ]
    }
   ],
   "source": [
    "for x in banka_hesabi.items():\n",
    "    print(x)"
   ]
  },
  {
   "cell_type": "code",
   "execution_count": 98,
   "id": "f5d3ea78-e08d-4384-89fa-71b8e85f255d",
   "metadata": {},
   "outputs": [
    {
     "name": "stdout",
     "output_type": "stream",
     "text": [
      "TL\n",
      "Euro\n"
     ]
    }
   ],
   "source": [
    "for x in banka_hesabi.items():\n",
    "    print(x[0])"
   ]
  },
  {
   "cell_type": "code",
   "execution_count": 99,
   "id": "d34ff5e5-3994-41fb-a66d-71740bbfb558",
   "metadata": {},
   "outputs": [
    {
     "name": "stdout",
     "output_type": "stream",
     "text": [
      "3\n",
      "1\n"
     ]
    }
   ],
   "source": [
    "for x in banka_hesabi.items():\n",
    "    print(x[1])"
   ]
  },
  {
   "cell_type": "code",
   "execution_count": 100,
   "id": "c7956b88-fbbf-43f6-8795-c4463014623c",
   "metadata": {},
   "outputs": [
    {
     "data": {
      "text/plain": [
       "[18, 19, 20]"
      ]
     },
     "execution_count": 100,
     "metadata": {},
     "output_type": "execute_result"
    }
   ],
   "source": [
    "Ali=[18,19,20]\n",
    "Ali"
   ]
  },
  {
   "cell_type": "code",
   "execution_count": 101,
   "id": "98797df7-0bf6-46e7-8076-880fd4d531aa",
   "metadata": {},
   "outputs": [
    {
     "data": {
      "text/plain": [
       "20"
      ]
     },
     "execution_count": 101,
     "metadata": {},
     "output_type": "execute_result"
    }
   ],
   "source": [
    "Ali,Ayse,Fatma=[18,19,20]\n",
    "Fatma"
   ]
  },
  {
   "cell_type": "code",
   "execution_count": 103,
   "id": "62e9be4c-a8d8-4f86-a6dd-9dd1771664d5",
   "metadata": {},
   "outputs": [
    {
     "data": {
      "text/plain": [
       "19"
      ]
     },
     "execution_count": 103,
     "metadata": {},
     "output_type": "execute_result"
    }
   ],
   "source": [
    "Ayse"
   ]
  },
  {
   "cell_type": "code",
   "execution_count": 104,
   "id": "8aa6e7c2-bb80-40f7-a30a-37517a04a7ca",
   "metadata": {},
   "outputs": [
    {
     "data": {
      "text/plain": [
       "18"
      ]
     },
     "execution_count": 104,
     "metadata": {},
     "output_type": "execute_result"
    }
   ],
   "source": [
    "Ali"
   ]
  },
  {
   "cell_type": "code",
   "execution_count": 105,
   "id": "dbbc7d8a-8266-464b-a521-7f174abd9a09",
   "metadata": {},
   "outputs": [
    {
     "ename": "ValueError",
     "evalue": "not enough values to unpack (expected 3, got 2)",
     "output_type": "error",
     "traceback": [
      "\u001b[1;31m--------------------------------------------------------------------\u001b[0m",
      "\u001b[1;31mValueError\u001b[0m                         Traceback (most recent call last)",
      "Cell \u001b[1;32mIn[105], line 1\u001b[0m\n\u001b[1;32m----> 1\u001b[0m Ali,Ayse,Fatma\u001b[38;5;241m=\u001b[39m[\u001b[38;5;241m18\u001b[39m,\u001b[38;5;241m19\u001b[39m]\n",
      "\u001b[1;31mValueError\u001b[0m: not enough values to unpack (expected 3, got 2)"
     ]
    }
   ],
   "source": [
    "Ali,Ayse,Fatma=[18,19]\n"
   ]
  },
  {
   "cell_type": "code",
   "execution_count": 106,
   "id": "c2a7ed40-b76f-465c-a441-c5cf1927acfd",
   "metadata": {},
   "outputs": [
    {
     "ename": "ValueError",
     "evalue": "too many values to unpack (expected 2)",
     "output_type": "error",
     "traceback": [
      "\u001b[1;31m--------------------------------------------------------------------\u001b[0m",
      "\u001b[1;31mValueError\u001b[0m                         Traceback (most recent call last)",
      "Cell \u001b[1;32mIn[106], line 1\u001b[0m\n\u001b[1;32m----> 1\u001b[0m Ali,Ayse\u001b[38;5;241m=\u001b[39m[\u001b[38;5;241m18\u001b[39m,\u001b[38;5;241m19\u001b[39m,\u001b[38;5;241m20\u001b[39m]\n",
      "\u001b[1;31mValueError\u001b[0m: too many values to unpack (expected 2)"
     ]
    }
   ],
   "source": [
    "Ali,Ayse=[18,19,20]\n"
   ]
  },
  {
   "cell_type": "code",
   "execution_count": 107,
   "id": "10d0c3c8-5a5e-4206-9400-af9744ac2aed",
   "metadata": {},
   "outputs": [
    {
     "data": {
      "text/plain": [
       "dict_items([('TL', 3), ('Euro', 1)])"
      ]
     },
     "execution_count": 107,
     "metadata": {},
     "output_type": "execute_result"
    }
   ],
   "source": [
    "banka_hesabi.items()"
   ]
  },
  {
   "cell_type": "code",
   "execution_count": 108,
   "id": "cdd21212-bf3e-43ee-aa3b-4b178267eed7",
   "metadata": {},
   "outputs": [
    {
     "name": "stdout",
     "output_type": "stream",
     "text": [
      "TL=>3\n",
      "Euro=>1\n"
     ]
    }
   ],
   "source": [
    "for key,value in banka_hesabi.items():\n",
    "    print(f'{key}=>{value}')"
   ]
  },
  {
   "cell_type": "code",
   "execution_count": null,
   "id": "688b4908-329f-4cc2-b337-c3d5e91bf055",
   "metadata": {},
   "outputs": [],
   "source": [
    "#working with files txt"
   ]
  },
  {
   "cell_type": "code",
   "execution_count": null,
   "id": "ec037563-eaa5-489a-b7f9-16cc26f75aae",
   "metadata": {},
   "outputs": [],
   "source": [
    "#mode \n",
    "#r \n",
    "#w \n",
    "#a"
   ]
  },
  {
   "cell_type": "code",
   "execution_count": 109,
   "id": "06db1eb7-d41d-496c-947a-1b5f86485171",
   "metadata": {},
   "outputs": [
    {
     "name": "stdin",
     "output_type": "stream",
     "text": [
      "dosya adi:  a.txt\n"
     ]
    }
   ],
   "source": [
    "#a.txt\n",
    "#ilce_durak\n",
    "filename=input('dosya adi: ')\n",
    "f=open(filename,'w')\n",
    "f.write('Haymana,10\\n')\n",
    "f.write('Kizilay,50\\n')\n",
    "f.write('Kadikoy,40\\n')\n",
    "f.write('Taksim,50\\n')\n",
    "f.write('Besiktas,30\\n')\n",
    "f.write('Tunali,40\\n')\n",
    "f.close()"
   ]
  },
  {
   "cell_type": "code",
   "execution_count": 110,
   "id": "eb73e2f6-6dc8-4c26-bf13-0b8d838400d2",
   "metadata": {},
   "outputs": [
    {
     "name": "stdin",
     "output_type": "stream",
     "text": [
      "dosya adi:  b.txt\n"
     ]
    }
   ],
   "source": [
    "#a.txt\n",
    "#ilce_durak\n",
    "filename=input('dosya adi: ')\n",
    "f=open(filename,'w')\n",
    "f.write('Haymana,Ankara\\n')\n",
    "f.write('Kizilay,Ankara\\n')\n",
    "f.write('Kadikoy,Istanbul\\n')\n",
    "f.write('Taksim,Istanbul\\n')\n",
    "f.write('Besiktas,Istanbul\\n')\n",
    "f.write('Tunali,Ankara\\n')\n",
    "f.close()"
   ]
  },
  {
   "cell_type": "code",
   "execution_count": null,
   "id": "5fa65bba-0eef-412b-9713-01930d12c827",
   "metadata": {},
   "outputs": [],
   "source": [
    "#a ilce_durak_sayisi\n",
    "#b ilce_il\n",
    "#c il_toplam_durak_sayisi"
   ]
  },
  {
   "cell_type": "code",
   "execution_count": 111,
   "id": "fc70a2bb-8e74-4848-91c9-fbed94aca25c",
   "metadata": {},
   "outputs": [
    {
     "data": {
      "text/plain": [
       "['Haymana,10\\n',\n",
       " 'Kizilay,50\\n',\n",
       " 'Kadikoy,40\\n',\n",
       " 'Taksim,50\\n',\n",
       " 'Besiktas,30\\n',\n",
       " 'Tunali,40\\n']"
      ]
     },
     "execution_count": 111,
     "metadata": {},
     "output_type": "execute_result"
    }
   ],
   "source": [
    "with open('a.txt') as f:\n",
    "    a=f.readlines()\n",
    "a"
   ]
  },
  {
   "cell_type": "code",
   "execution_count": 112,
   "id": "338ac9a8-3b3c-4bbb-94f6-b4c8f067b19f",
   "metadata": {},
   "outputs": [
    {
     "name": "stdout",
     "output_type": "stream",
     "text": [
      "Haymana,10\n",
      "Kizilay,50\n",
      "Kadikoy,40\n",
      "Taksim,50\n",
      "Besiktas,30\n",
      "Tunali,40\n",
      "\n"
     ]
    }
   ],
   "source": [
    "with open('a.txt') as f:\n",
    "    a=f.read()\n",
    "print(a)"
   ]
  },
  {
   "cell_type": "code",
   "execution_count": 114,
   "id": "7c1d45ab-c9d4-4808-98a2-c7a9045f1996",
   "metadata": {},
   "outputs": [
    {
     "name": "stdout",
     "output_type": "stream",
     "text": [
      "['Haymana,10', 'Kizilay,50', 'Kadikoy,40', 'Taksim,50', 'Besiktas,30', 'Tunali,40']\n"
     ]
    }
   ],
   "source": [
    "with open('a.txt') as f:\n",
    "    a=f.read().splitlines()\n",
    "print(a)"
   ]
  },
  {
   "cell_type": "code",
   "execution_count": 115,
   "id": "66057a36-5723-4aea-9f60-f547821282ad",
   "metadata": {},
   "outputs": [
    {
     "data": {
      "text/plain": [
       "['Haymana,10\\n',\n",
       " 'Kizilay,50\\n',\n",
       " 'Kadikoy,40\\n',\n",
       " 'Taksim,50\\n',\n",
       " 'Besiktas,30\\n',\n",
       " 'Tunali,40\\n']"
      ]
     },
     "execution_count": 115,
     "metadata": {},
     "output_type": "execute_result"
    }
   ],
   "source": [
    "with open('a.txt') as f:\n",
    "    a=f.readlines()\n",
    "a"
   ]
  },
  {
   "cell_type": "code",
   "execution_count": 117,
   "id": "2050ed99-fe8c-47b6-a981-fd3b02c23461",
   "metadata": {},
   "outputs": [
    {
     "name": "stdout",
     "output_type": "stream",
     "text": [
      "Haymana,10\n",
      "Kizilay,50\n",
      "Kadikoy,40\n",
      "Taksim,50\n",
      "Besiktas,30\n",
      "Tunali,40\n"
     ]
    }
   ],
   "source": [
    "for i in a:\n",
    "    print(i.strip())"
   ]
  },
  {
   "cell_type": "code",
   "execution_count": 120,
   "id": "68202b4d-a144-4fd4-9749-1b485cb58059",
   "metadata": {},
   "outputs": [
    {
     "name": "stdout",
     "output_type": "stream",
     "text": [
      "Haymana\n",
      "Kizilay\n",
      "Kadikoy\n",
      "Taksim\n",
      "Besiktas\n",
      "Tunali\n"
     ]
    }
   ],
   "source": [
    "ilce_durak_sayisi={}\n",
    "for i in a:\n",
    "    print(i.strip().split(',')[0])"
   ]
  },
  {
   "cell_type": "code",
   "execution_count": 121,
   "id": "16a95b22-39c1-4fc2-b120-010f7dbf930b",
   "metadata": {},
   "outputs": [
    {
     "name": "stdout",
     "output_type": "stream",
     "text": [
      "10\n",
      "50\n",
      "40\n",
      "50\n",
      "30\n",
      "40\n"
     ]
    }
   ],
   "source": [
    "ilce_durak_sayisi={}\n",
    "for i in a:\n",
    "    print(i.strip().split(',')[1])"
   ]
  },
  {
   "cell_type": "code",
   "execution_count": 122,
   "id": "5effab7b-ee75-47f6-a757-82a334fda93d",
   "metadata": {},
   "outputs": [
    {
     "data": {
      "text/plain": [
       "{'Haymana': 10,\n",
       " 'Kizilay': 50,\n",
       " 'Kadikoy': 40,\n",
       " 'Taksim': 50,\n",
       " 'Besiktas': 30,\n",
       " 'Tunali': 40}"
      ]
     },
     "execution_count": 122,
     "metadata": {},
     "output_type": "execute_result"
    }
   ],
   "source": [
    "ilce_durak_sayisi={}\n",
    "for i in a:\n",
    "    ilce_durak_sayisi[i.strip().split(',')[0]]=int(i.strip().split(',')[1])\n",
    "ilce_durak_sayisi"
   ]
  },
  {
   "cell_type": "code",
   "execution_count": 123,
   "id": "92b21181-5dd1-4df0-92bc-e5954bc8c1c3",
   "metadata": {},
   "outputs": [
    {
     "data": {
      "text/plain": [
       "['Haymana,Ankara\\n',\n",
       " 'Kizilay,Ankara\\n',\n",
       " 'Kadikoy,Istanbul\\n',\n",
       " 'Taksim,Istanbul\\n',\n",
       " 'Besiktas,Istanbul\\n',\n",
       " 'Tunali,Ankara\\n']"
      ]
     },
     "execution_count": 123,
     "metadata": {},
     "output_type": "execute_result"
    }
   ],
   "source": [
    "with open('b.txt') as f:\n",
    "    b=f.readlines()\n",
    "b"
   ]
  },
  {
   "cell_type": "code",
   "execution_count": 124,
   "id": "b0184e39-d417-4475-8a17-e201bf8c02e7",
   "metadata": {},
   "outputs": [
    {
     "data": {
      "text/plain": [
       "{'Haymana': 'Ankara',\n",
       " 'Kizilay': 'Ankara',\n",
       " 'Kadikoy': 'Istanbul',\n",
       " 'Taksim': 'Istanbul',\n",
       " 'Besiktas': 'Istanbul',\n",
       " 'Tunali': 'Ankara'}"
      ]
     },
     "execution_count": 124,
     "metadata": {},
     "output_type": "execute_result"
    }
   ],
   "source": [
    "ilce_il={}\n",
    "for i in b:\n",
    "    ilce_il[i.strip().split(',')[0]]=i.strip().split(',')[1]\n",
    "ilce_il"
   ]
  },
  {
   "cell_type": "code",
   "execution_count": 127,
   "id": "5b1a64c3-a313-4969-93ae-98b8693c4d6d",
   "metadata": {},
   "outputs": [
    {
     "data": {
      "text/plain": [
       "{'Haymana': 10,\n",
       " 'Kizilay': 50,\n",
       " 'Kadikoy': 40,\n",
       " 'Taksim': 50,\n",
       " 'Besiktas': 30,\n",
       " 'Tunali': 40}"
      ]
     },
     "execution_count": 127,
     "metadata": {},
     "output_type": "execute_result"
    }
   ],
   "source": [
    "ilce_durak_sayisi"
   ]
  },
  {
   "cell_type": "code",
   "execution_count": 129,
   "id": "0b7beea9-30dc-4408-8789-1c2a97701d2f",
   "metadata": {},
   "outputs": [
    {
     "data": {
      "text/plain": [
       "{'Ankara': 140, 'Istanbul': 150}"
      ]
     },
     "execution_count": 129,
     "metadata": {},
     "output_type": "execute_result"
    }
   ],
   "source": [
    "il_toplam_durak={}\n",
    "for ilce,durak_sayisi in ilce_durak_sayisi.items():\n",
    "    #print(f'{ilce}=>{durak_sayisi}')\n",
    "    sehir=ilce_il[ilce]\n",
    "    #print(sehir)\n",
    "    il_toplam_durak[sehir]=ilce_toplam_durak.get(sehir,0)+durak_sayisi\n",
    "il_toplam_durak"
   ]
  },
  {
   "cell_type": "code",
   "execution_count": 132,
   "id": "b902cc95-e7f4-4152-a678-7b5fa971ecf9",
   "metadata": {},
   "outputs": [],
   "source": [
    "with open('c.txt','w') as  f:\n",
    "    for sehir,durak in il_toplam_durak.items():\n",
    "        f.write('Sehrin ismi: '+sehir+', Durak Sayisi: '+str(durak)+'\\n')"
   ]
  },
  {
   "cell_type": "code",
   "execution_count": null,
   "id": "5f056291-4e41-46bd-9b47-b62ed7580884",
   "metadata": {},
   "outputs": [],
   "source": []
  }
 ],
 "metadata": {
  "kernelspec": {
   "display_name": "Python 3 (ipykernel)",
   "language": "python",
   "name": "python3"
  },
  "language_info": {
   "codemirror_mode": {
    "name": "ipython",
    "version": 3
   },
   "file_extension": ".py",
   "mimetype": "text/x-python",
   "name": "python",
   "nbconvert_exporter": "python",
   "pygments_lexer": "ipython3",
   "version": "3.8.8"
  }
 },
 "nbformat": 4,
 "nbformat_minor": 5
}
