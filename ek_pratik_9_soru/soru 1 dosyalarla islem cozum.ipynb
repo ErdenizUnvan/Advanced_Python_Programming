{
 "cells": [
  {
   "cell_type": "raw",
   "id": "ebb7841a",
   "metadata": {},
   "source": [
    "Soru1:\n",
    "while True icinde\n",
    "try, except\n",
    "try icinde filename sor\n",
    "dosya varsa ac oku kapat try icinde\n",
    "olmayan dosya=> excpet icinde while True\n",
    "dosya yoksa exception da devam mi cikis mi\n",
    "devamsa tekrar dosya okuma\n",
    "cikis ise break"
   ]
  },
  {
   "cell_type": "code",
   "execution_count": null,
   "id": "a2275320",
   "metadata": {},
   "outputs": [],
   "source": [
    "while True:\n",
    "    try:\n",
    "        filename=input('dosya adini yaz: ')\n",
    "        f=open(filename,'r')\n",
    "        print(f.read())\n",
    "        f.close()\n",
    "        break\n",
    "    except Exception as e:\n",
    "        print(f'istisna var: {e}')\n",
    "        while True:\n",
    "            flag=False\n",
    "            devam=input('devam icin e cikis icin ESC yaz')\n",
    "            if devam.lower()=='e':\n",
    "                print('devam')\n",
    "                break\n",
    "            elif devam.lower()=='esc':\n",
    "                print('cikis')\n",
    "                flag=True\n",
    "                break\n",
    "            else:\n",
    "                print('araftasin abi')\n",
    "        if flag:\n",
    "            break\n",
    "            "
   ]
  }
 ],
 "metadata": {
  "kernelspec": {
   "display_name": "Python 3 (ipykernel)",
   "language": "python",
   "name": "python3"
  },
  "language_info": {
   "codemirror_mode": {
    "name": "ipython",
    "version": 3
   },
   "file_extension": ".py",
   "mimetype": "text/x-python",
   "name": "python",
   "nbconvert_exporter": "python",
   "pygments_lexer": "ipython3",
   "version": "3.11.10"
  }
 },
 "nbformat": 4,
 "nbformat_minor": 5
}
