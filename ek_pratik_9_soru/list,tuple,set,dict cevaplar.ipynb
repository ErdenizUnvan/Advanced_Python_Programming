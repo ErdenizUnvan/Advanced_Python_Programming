{
 "cells": [
  {
   "cell_type": "raw",
   "id": "c1bc8103",
   "metadata": {},
   "source": [
    "#Soru:\n",
    "a:\n",
    "1st sequence: ”apple”, ”banana”, ”banana”, 1\n",
    "\n",
    "2nd sequence: 3, 10, ”orange”\n",
    "\n",
    "Write the codes to create a Python List, Tuple and Set using the 1st sequence above.\n",
    "Assuming you named your list, tuple and set as a list, a tuple, a set, respectively, write the when print(a list), print(a tuple) and print(a set) executed"
   ]
  },
  {
   "cell_type": "code",
   "execution_count": 1,
   "id": "51d64ad4",
   "metadata": {},
   "outputs": [
    {
     "name": "stdout",
     "output_type": "stream",
     "text": [
      "['apple', 'banana', 'banana', 1]\n",
      "('apple', 'banana', 'banana', 1)\n",
      "{1, 'apple', 'banana'}\n"
     ]
    }
   ],
   "source": [
    "a_list = [\"apple\", \"banana\", \"banana\", 1]\n",
    "a_tuple = (\"apple\", \"banana\", \"banana\", 1)\n",
    "a_set = {\"apple\", \"banana\", \"banana\", 1}  #Note: sets remove duplicates\n",
    "\n",
    "print(a_list)  #Output of the list\n",
    "print(a_tuple) #Output of the tuple\n",
    "print(a_set)   #Output of the set"
   ]
  },
  {
   "cell_type": "code",
   "execution_count": 2,
   "id": "bf9b4d95",
   "metadata": {},
   "outputs": [
    {
     "name": "stdout",
     "output_type": "stream",
     "text": [
      "['apple', 'banana', 'banana', 1]\n",
      "('apple', 'banana', 'banana', 1)\n",
      "{1, 'apple', 'banana'}\n"
     ]
    }
   ],
   "source": [
    "#cozum 2:\n",
    "a_list = [\"apple\", \"banana\", \"banana\", 1]\n",
    "a_tuple_v2=tuple(a_list)\n",
    "a_set_v2=set(a_list)\n",
    "\n",
    "# Printing the values\n",
    "print(a_list)  #Output of the list\n",
    "print(a_tuple_v2) #Output of the tuple\n",
    "print(a_set_v2)   #Output of the set"
   ]
  },
  {
   "cell_type": "raw",
   "id": "4d37a1f3",
   "metadata": {},
   "source": [
    "b: Write the codes to add the 2nd sequence to the List, Tuple and Set objects you created above. \n",
    "Write the output when these updated List, Tuple and Set objects are printed with print() function."
   ]
  },
  {
   "cell_type": "code",
   "execution_count": 3,
   "id": "ed77de02",
   "metadata": {},
   "outputs": [],
   "source": [
    "#1_a'dan gelen ilk ornekleri al\n",
    "a_list = [\"apple\", \"banana\", \"banana\", 1]\n",
    "a_tuple = (\"apple\", \"banana\", \"banana\", 1)\n",
    "a_set = {\"apple\", \"banana\", \"banana\", 1}  # Note: duplicates in the set are already removed\n",
    "\n",
    "#1_b icin:\n",
    "sequence_2 = [3, 10, \"orange\"]"
   ]
  },
  {
   "cell_type": "code",
   "execution_count": 4,
   "id": "872b7390",
   "metadata": {},
   "outputs": [
    {
     "name": "stdout",
     "output_type": "stream",
     "text": [
      "['apple', 'banana', 'banana', 1, 3, 10, 'orange']\n"
     ]
    }
   ],
   "source": [
    "a_list.extend(sequence_2)  # Use extend to add elements of the sequence\n",
    "print(a_list)"
   ]
  },
  {
   "cell_type": "code",
   "execution_count": null,
   "id": "febb1504",
   "metadata": {},
   "outputs": [],
   "source": [
    "#append olsaydi liste icinde liste olurdu\n",
    "#extend diger listenin elemanlarini bizim ilk listeye ekledi"
   ]
  },
  {
   "cell_type": "code",
   "execution_count": 5,
   "id": "1a9e5938",
   "metadata": {},
   "outputs": [
    {
     "name": "stdout",
     "output_type": "stream",
     "text": [
      "('apple', 'banana', 'banana', 1, 3, 10, 'orange')\n"
     ]
    }
   ],
   "source": [
    "a_tuple = a_tuple + tuple(sequence_2)  # Tuples are immutable; concatenate to create a new tuple\n",
    "print(a_tuple)"
   ]
  },
  {
   "cell_type": "code",
   "execution_count": 6,
   "id": "6346b326",
   "metadata": {},
   "outputs": [
    {
     "name": "stdout",
     "output_type": "stream",
     "text": [
      "{1, 3, 'banana', 10, 'orange', 'apple'}\n"
     ]
    }
   ],
   "source": [
    "a_set.update(sequence_2)  # Use update to add elements from an iterable to a set\n",
    "print(a_set)\n",
    "#update birden deger cok eklemek icin set'e\n",
    "#add tek tek eklemek icin set'e"
   ]
  },
  {
   "cell_type": "raw",
   "id": "a32ea36c",
   "metadata": {},
   "source": [
    "c) Write the codes to add the string ”a new item” to the List, Tuple, and Set objects you created above. Write the output when these updated List, Tuple and Set objects are printed with print() function"
   ]
  },
  {
   "cell_type": "code",
   "execution_count": 7,
   "id": "0c26b047",
   "metadata": {},
   "outputs": [
    {
     "name": "stdout",
     "output_type": "stream",
     "text": [
      "['apple', 'banana', 'banana', 1, 3, 10, 'orange', 'a new item']\n",
      "('apple', 'banana', 'banana', 1, 3, 10, 'orange', 'a new item')\n",
      "{1, 3, 'banana', 10, 'orange', 'apple', 'a new item'}\n"
     ]
    }
   ],
   "source": [
    "#1_a'dan gelen ilk ornekleri al\n",
    "a_list = [\"apple\", \"banana\", \"banana\", 1]\n",
    "a_tuple = (\"apple\", \"banana\", \"banana\", 1)\n",
    "a_set = {\"apple\", \"banana\", 1}  # Duplicates are already removed in the set\n",
    "\n",
    "#1_b icin:\n",
    "sequence_2 = [3, 10, \"orange\"]\n",
    "\n",
    "a_list.extend(sequence_2)  #Adding to the list\n",
    "a_tuple = a_tuple + tuple(sequence_2)  #Adding to the tuple\n",
    "a_set.update(sequence_2)  #Adding to the set\n",
    "\n",
    "# 1_c icin:\n",
    "a_list.append(\"a new item\")  #Append \n",
    "#neden append, cunku tek deger, extend baska bir listedeki birden cok degerleri ekler eski listeye\n",
    "\n",
    "a_tuple = a_tuple + (\"a new item\",)  #Concatenate to the tuple\n",
    "#\"a new item\" string'i tuple olarak yazdik: (\"a new item\",)\n",
    "#tuple'a tuple ekledik\n",
    "\n",
    "a_set.add(\"a new item\")  # Add to the set\n",
    "#add cunku tek deger. update ise birden cok degeri eklemek icin\n",
    "\n",
    "print(a_list)  #Output the updated list\n",
    "print(a_tuple)  #Output the updated tuple\n",
    "print(a_set)  #Output the updated set"
   ]
  },
  {
   "cell_type": "raw",
   "id": "70cdaca2",
   "metadata": {},
   "source": [
    "d: Write the code to create a Python Dictionary object using the items in the 1st sequence as the keys and the 2nd sequence as the values"
   ]
  },
  {
   "cell_type": "code",
   "execution_count": 8,
   "id": "906f4dd7",
   "metadata": {},
   "outputs": [
    {
     "name": "stdout",
     "output_type": "stream",
     "text": [
      "4\n"
     ]
    }
   ],
   "source": [
    "sequence_1 = [\"apple\", \"banana\", \"banana\", 1]\n",
    "print(len(sequence_1))"
   ]
  },
  {
   "cell_type": "code",
   "execution_count": 9,
   "id": "4b17f7a3",
   "metadata": {},
   "outputs": [
    {
     "name": "stdout",
     "output_type": "stream",
     "text": [
      "3\n"
     ]
    }
   ],
   "source": [
    "sequence_2 = [3, 10, \"orange\"]\n",
    "print(len(sequence_2))"
   ]
  },
  {
   "cell_type": "code",
   "execution_count": 10,
   "id": "c0807002",
   "metadata": {},
   "outputs": [
    {
     "name": "stdout",
     "output_type": "stream",
     "text": [
      "{'apple': 3, 'banana': 'orange'}\n"
     ]
    }
   ],
   "source": [
    "result= dict(zip(sequence_1,sequence_2))\n",
    "print(result)"
   ]
  },
  {
   "cell_type": "code",
   "execution_count": null,
   "id": "216262ec",
   "metadata": {},
   "outputs": [],
   "source": [
    "#neden boyle oldu\n",
    "#key2 banana\n",
    "#value2: 10\n",
    "\n",
    "#sonra\n",
    "#key3: banana\n",
    "#value3: orange\n",
    "\n",
    "#banana 2 kere yazilip, value degistirdi\n",
    "\n",
    "#1'in ise  value'su yok. o yuzden key olarak da yer almiyor\n",
    "#degeri yok cunku ilk listenin uzunlugu 4, ikinci liste 3\n",
    "#match etmiyor uzunluklar."
   ]
  },
  {
   "cell_type": "raw",
   "id": "97118d04",
   "metadata": {},
   "source": [
    "#Soru:\n",
    "\n",
    "Write a method, called removeNegatives, which takes a list as a parameter and returns a new list which has only the positive elements of the parameter list. \n",
    "\n",
    "You  must test/invoke your method in your program, take a list from the user as input separated by spaces, call your removeNegatives method and print the content of the new list  in your main program.\n",
    " \n",
    "Hint: You should not print lists using the removeNegatives method. Sample Run:\n",
    "\n",
    "Here is my list [-1 0 3 -4 5 7-9 6-3] \n",
    "After calling removeNegatives new list [0 3 5 7 6]"
   ]
  },
  {
   "cell_type": "code",
   "execution_count": 11,
   "id": "ed77f3c8",
   "metadata": {},
   "outputs": [
    {
     "name": "stdout",
     "output_type": "stream",
     "text": [
      "Enter your list of numbers separated by spaces: [-1 0 3 -4 5 7 -9 6 -3]\n",
      "Here is my list: [-1 0 3 -4 5 7 -9 6 -3]\n",
      "After calling removeNegatives new list: [0, 3, 5, 7, 6]\n"
     ]
    }
   ],
   "source": [
    "def removeNegatives(input_list):\n",
    "    input_list=input_list.replace('[','')\n",
    "    input_list=input_list.replace(']','')\n",
    "    input_list=input_list.split()\n",
    "    result=[int(x) for x in input_list]\n",
    "    return [num for num in result if num >= 0]\n",
    "\n",
    "user_input = input(\"Enter your list of numbers separated by spaces: \")\n",
    "\n",
    "new_list = removeNegatives(user_input)\n",
    "\n",
    "print(f\"Here is my list: {user_input}\")\n",
    "print(f\"After calling removeNegatives new list: {new_list}\")\n",
    "#[-1 0 3 -4 5 7 -9 6 -3] "
   ]
  },
  {
   "cell_type": "code",
   "execution_count": 12,
   "id": "88a51fb6",
   "metadata": {},
   "outputs": [
    {
     "name": "stdout",
     "output_type": "stream",
     "text": [
      "Enter your list of numbers separated by spaces: [-5 3 2 -1 0 4 -6 9 -2 7 -8] \n",
      "Here is my list: [-5 3 2 -1 0 4 -6 9 -2 7 -8] \n",
      "After calling removeNegatives new list: [3, 2, 0, 4, 9, 7]\n"
     ]
    }
   ],
   "source": [
    "#[-5 3 2 -1 0 4 -6 9 -2 7 -8] \n",
    "user_input = input(\"Enter your list of numbers separated by spaces: \")\n",
    "new_list = removeNegatives(user_input)\n",
    "print(f\"Here is my list: {user_input}\")\n",
    "print(f\"After calling removeNegatives new list: {new_list}\")"
   ]
  },
  {
   "cell_type": "code",
   "execution_count": null,
   "id": "64774352",
   "metadata": {},
   "outputs": [],
   "source": [
    "#Soru:"
   ]
  },
  {
   "attachments": {
    "image.png": {
     "image/png": "[encoded data removed]"
    }
   },
   "cell_type": "markdown",
   "id": "648df644",
   "metadata": {},
   "source": [
    "![image.png](attachment:image.png)"
   ]
  },
  {
   "cell_type": "code",
   "execution_count": 13,
   "id": "15ed9392",
   "metadata": {},
   "outputs": [
    {
     "name": "stdout",
     "output_type": "stream",
     "text": [
      "The trace of the matrix is: 7.5\n"
     ]
    }
   ],
   "source": [
    "def calculate_trace(matrix):\n",
    "    try:\n",
    "        n = len(matrix)\n",
    "        for row in matrix:\n",
    "            if len(row) != n:\n",
    "                raise ValueError #Matrix must be square (NxN)\n",
    "\n",
    "        trace=0\n",
    "        for i in range(n):\n",
    "            trace+= matrix[i][i]\n",
    "        return trace\n",
    "    except Exception as e:\n",
    "        return False\n",
    "\n",
    "\n",
    "matrix = [\n",
    "    [1.5, 0.0, -3.4],\n",
    "    [1.2, 2.5, 2.2],\n",
    "    [1.0, 0.2, 3.5]\n",
    "]\n",
    "\n",
    "trace = calculate_trace(matrix)\n",
    "\n",
    "print(f\"The trace of the matrix is: {trace}\")"
   ]
  },
  {
   "cell_type": "code",
   "execution_count": 14,
   "id": "62dc8289",
   "metadata": {},
   "outputs": [
    {
     "name": "stdout",
     "output_type": "stream",
     "text": [
      "The trace of the matrix is: 10.5\n"
     ]
    }
   ],
   "source": [
    "matrix = [\n",
    "    [2.5, 0.0, -3.4],\n",
    "    [1.2, 3.5, 2.2],\n",
    "    [1.0, 0.2, 4.5]\n",
    "]\n",
    "\n",
    "# Call the method to calculate the trace\n",
    "trace = calculate_trace(matrix)\n",
    "\n",
    "# Print the trace\n",
    "print(f\"The trace of the matrix is: {trace}\")"
   ]
  },
  {
   "cell_type": "code",
   "execution_count": 15,
   "id": "49ac4f4a",
   "metadata": {},
   "outputs": [
    {
     "name": "stdout",
     "output_type": "stream",
     "text": [
      "The trace of the matrix is: False\n"
     ]
    }
   ],
   "source": [
    "matrix = [\n",
    "    [2.5, 0.0, -3.4],\n",
    "    [1.2, 3.5, 2.2, 2.1],\n",
    "    [1.0, 0.2, 4.5]\n",
    "]\n",
    "\n",
    "# Call the method to calculate the trace\n",
    "trace = calculate_trace(matrix)\n",
    "\n",
    "# Print the trace\n",
    "print(f\"The trace of the matrix is: {trace}\")"
   ]
  },
  {
   "cell_type": "code",
   "execution_count": null,
   "id": "96d7b54f",
   "metadata": {},
   "outputs": [],
   "source": [
    "#Soru:"
   ]
  },
  {
   "cell_type": "raw",
   "id": "8c99425d",
   "metadata": {},
   "source": [
    "Write a Phyton method to determine which word or words occur most frequently.\n",
    "\n",
    "Your method should take the list of words as input parameter and return a list of word or words that occur most frequently. \n",
    "\n",
    "For example, for the list shown below,\n",
    "\n",
    " your method should return [’look’, ’eyes’].\n",
    " \n",
    "You should use dictionary object to get any points.\n",
    " \n",
    "Example list:\n",
    " words = [’look’, ’into’, ’my’, ’eyes’, ’look’, ’into’, ’my’, ’eyes’, ’the’, ’look’, ’eyes’, ’the’,\n",
    " ’eyes’, ’look’, ’the’, ’eyes’, ’not’, ’around’, ’the’, ’look’, ’eyes’, ”don’t”, ’look’, ’look’,\n",
    " ’around’, ’the’, ’eyes’, ’look’, ’into’, ’my’, ’eyes’, ”you’re”, ’under’]\n",
    "\n",
    "Note: This is just an example. Your answer must be correct for any list of words."
   ]
  },
  {
   "cell_type": "code",
   "execution_count": 16,
   "id": "1ee7c5c4",
   "metadata": {},
   "outputs": [],
   "source": [
    " words = [\"look\", \"into\", \"my\", \"eyes\", \"look\", \"into\", \"my\", \"eyes\", \"the\", \"look\", \"eyes\", \"the\",\n",
    " \"eyes\", \"look\", \"the\", \"eyes\", \"not\", \"around\", \"the\", \"look\", \"eyes\", \"don't\", \"look\", \"look\",\n",
    " \"around\", \"the\", \"eyes\", \"look\", \"into\", \"my\", \"eyes\", \"you're\", \"under\"]"
   ]
  },
  {
   "cell_type": "code",
   "execution_count": 17,
   "id": "6f8f6cd1",
   "metadata": {},
   "outputs": [
    {
     "data": {
      "text/plain": [
       "8"
      ]
     },
     "execution_count": 17,
     "metadata": {},
     "output_type": "execute_result"
    }
   ],
   "source": [
    "words.count('look')"
   ]
  },
  {
   "cell_type": "code",
   "execution_count": 18,
   "id": "0ea8796f",
   "metadata": {},
   "outputs": [
    {
     "data": {
      "text/plain": [
       "8"
      ]
     },
     "execution_count": 18,
     "metadata": {},
     "output_type": "execute_result"
    }
   ],
   "source": [
    "words.count('eyes')"
   ]
  },
  {
   "cell_type": "code",
   "execution_count": 19,
   "id": "bcdc5de7",
   "metadata": {},
   "outputs": [
    {
     "name": "stdout",
     "output_type": "stream",
     "text": [
      "{'look': 8, 'into': 3, 'my': 3, 'eyes': 8, 'the': 5, 'not': 1, 'around': 2, \"don't\": 1, \"you're\": 1, 'under': 1}\n"
     ]
    }
   ],
   "source": [
    "my_dict={}\n",
    "for x in words:\n",
    "    my_dict[x]=words.count(x)\n",
    "print(my_dict)"
   ]
  },
  {
   "cell_type": "code",
   "execution_count": 20,
   "id": "fe4bb200",
   "metadata": {},
   "outputs": [
    {
     "name": "stdout",
     "output_type": "stream",
     "text": [
      "The most frequent words: ['look', 'eyes']\n"
     ]
    }
   ],
   "source": [
    "def most_frequent_words(word_list):\n",
    "    my_dict = {}\n",
    "    result=[]\n",
    "    for x in word_list:\n",
    "        my_dict[x] = words.count(x)    \n",
    "    max_number = max(my_dict.values())\n",
    "    for text, repeat in my_dict.items():\n",
    "        if repeat==max_number:\n",
    "            result.append(text)\n",
    "    return result\n",
    "\n",
    "words = [\n",
    "    'look', 'into', 'my', 'eyes', 'look', 'into', 'my', 'eyes', 'the', 'look', 'eyes', 'the',\n",
    "    'eyes', 'look', 'the', 'eyes', 'not', 'around', 'the', 'look', 'eyes', 'don\"t', 'look', 'look',\n",
    "    'around', 'the', 'eyes', 'look', 'into', 'my', 'eyes', 'you\"re', 'under'\n",
    "]\n",
    "\n",
    "result = most_frequent_words(words)\n",
    "print(f\"The most frequent words: {result}\")"
   ]
  },
  {
   "cell_type": "code",
   "execution_count": null,
   "id": "700b6da0",
   "metadata": {},
   "outputs": [],
   "source": []
  }
 ],
 "metadata": {
  "kernelspec": {
   "display_name": "Python 3",
   "language": "python",
   "name": "python3"
  },
  "language_info": {
   "codemirror_mode": {
    "name": "ipython",
    "version": 3
   },
   "file_extension": ".py",
   "mimetype": "text/x-python",
   "name": "python",
   "nbconvert_exporter": "python",
   "pygments_lexer": "ipython3",
   "version": "3.8.8"
  }
 },
 "nbformat": 4,
 "nbformat_minor": 5
}
