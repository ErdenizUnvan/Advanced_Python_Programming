{
 "cells": [
  {
   "cell_type": "code",
   "execution_count": null,
   "metadata": {},
   "outputs": [],
   "source": [
    "#GBP1R31.log ve BRP1R06.log dosyalarını jupyter home klasörüne kopyaladık\n",
    "#RncFunction=1,IubLink=Iub_ geçen satırları her 2 dosyadan ilgili dosya isimlerini ile beraber alalım ve yeni bir log dosyasına koyalım\n",
    "#bu yeni dosyada total.log olsun\n",
    "import os\n",
    "files=[]\n",
    "for file in os.listdir():\n",
    "    if file.endswith(\".log\") and os.path.isfile(file): #.log ile biten dosyaları alalım ve files listeyesine birazdan ekle\n",
    "        files.append(file)\n",
    "#files\n",
    "\n",
    "out = open('total.log', 'w') #write\n",
    "for file in files:\n",
    "    filename = file\n",
    "    filename = filename[:-4]\n",
    "    f = open(file, 'r') #read\n",
    "    for line in f:\n",
    "        if line.find(\"RncFunction=1,IubLink=Iub_\") > 0 and (line.find(\"ENABLED\") > 0 or line.find(\"DISABLED\") > 0):\n",
    "            #Sadece \"RncFunction=1,IubLink=Iub_\" aratınca extra satırlarlar olacaktır. Üstüne enabled ve disabled aramasını da ekliyoruz\n",
    "            out.write(filename+' '+line)\n",
    "    f.close()\n",
    "\n",
    "out.close()  "
   ]
  },
  {
   "cell_type": "code",
   "execution_count": null,
   "metadata": {},
   "outputs": [],
   "source": []
  }
 ],
 "metadata": {
  "kernelspec": {
   "display_name": "Python 3 (ipykernel)",
   "language": "python",
   "name": "python3"
  },
  "language_info": {
   "codemirror_mode": {
    "name": "ipython",
    "version": 3
   },
   "file_extension": ".py",
   "mimetype": "text/x-python",
   "name": "python",
   "nbconvert_exporter": "python",
   "pygments_lexer": "ipython3",
   "version": "3.11.10"
  }
 },
 "nbformat": 4,
 "nbformat_minor": 4
}
