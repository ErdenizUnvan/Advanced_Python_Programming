{
 "cells": [
  {
   "cell_type": "code",
   "execution_count": 2,
   "id": "852583ad",
   "metadata": {},
   "outputs": [
    {
     "data": {
      "text/plain": [
       "['interface LoopBack0\\nip address 1.1.1.1 32\\nquit\\n',\n",
       " '\\nbgp 65001\\nrouter-id 1.1.1.1\\n',\n",
       " '\\npeer 10.1.1.2 as-number 65002\\npeer 10.1.1.2 description Neighbor-AS65002\\npeer 10.1.1.2 password cipher BgpNeighborPass123\\npeer 10.1.1.2 ebgp-max-hop 2\\npeer 10.1.1.2 timer keepalive 30 hold 90\\npeer 10.1.1.2 connect-interface Ethernet1/0/0\\n',\n",
       " '\\npeer 10.1.1.3 as-number 65003\\npeer 10.1.1.3 description Neighbor-AS65003\\npeer 10.1.1.3 password cipher BgpNeighborPass123\\npeer 10.1.1.3 ebgp-max-hop 3\\npeer 10.1.1.3 timer keepalive 60 hold 180\\npeer 10.1.1.3 connect-interface Ethernet1/0/0\\n',\n",
       " '\\npeer 10.1.1.4 as-number 65004\\npeer 10.1.1.4 description Neighbor-AS65004\\npeer 10.1.1.4 password cipher BgpNeighborPass456\\npeer 10.1.1.4 ebgp-max-hop 4\\npeer 10.1.1.4 timer keepalive 60 hold 180\\npeer 10.1.1.4 connect-interface Ethernet1/0/0\\n',\n",
       " '\\nipv4-family unicast\\nnetwork 192.168.1.0 255.255.255.0\\nnetwork 10.0.0.0 255.255.255.0\\nnetwork 172.16.0.0 255.255.0.0\\n',\n",
       " '\\npeer 10.1.1.2 enable\\npeer 10.1.1.2 advertise-community\\n',\n",
       " '\\npeer 10.1.1.3 enable\\npeer 10.1.1.3 advertise-community\\n',\n",
       " '\\npeer 10.1.1.4 enable\\n',\n",
       " '\\nmpls\\n',\n",
       " '\\nip community-filter 1 permit 100:1\\nip community-filter 2 permit 200:1\\nip community-filter 3 permit 300:1\\nip community-filter 4 permit 65001:100\\nip community-filter 5 permit 65002:200\\n',\n",
       " '\\nip ip-prefix prefix-list-1 index 10 permit 192.168.0.0 16\\nip ip-prefix prefix-list-2 index 20 permit 10.0.0.0 8 less-equal 24\\n']"
      ]
     },
     "execution_count": 2,
     "metadata": {},
     "output_type": "execute_result"
    }
   ],
   "source": [
    "with open('config.txt') as f:\n",
    "    configs=f.read().split('############')\n",
    "configs"
   ]
  },
  {
   "cell_type": "code",
   "execution_count": 3,
   "id": "6b305d98",
   "metadata": {},
   "outputs": [
    {
     "name": "stdout",
     "output_type": "stream",
     "text": [
      "interface LoopBack0\n",
      "ip address 1.1.1.1 32\n",
      "quit\n",
      "\n",
      "\n",
      "bgp 65001\n",
      "router-id 1.1.1.1\n",
      "\n",
      "\n",
      "peer 10.1.1.2 as-number 65002\n",
      "peer 10.1.1.2 description Neighbor-AS65002\n",
      "peer 10.1.1.2 password cipher BgpNeighborPass123\n",
      "peer 10.1.1.2 ebgp-max-hop 2\n",
      "peer 10.1.1.2 timer keepalive 30 hold 90\n",
      "peer 10.1.1.2 connect-interface Ethernet1/0/0\n",
      "\n",
      "\n",
      "peer 10.1.1.3 as-number 65003\n",
      "peer 10.1.1.3 description Neighbor-AS65003\n",
      "peer 10.1.1.3 password cipher BgpNeighborPass123\n",
      "peer 10.1.1.3 ebgp-max-hop 3\n",
      "peer 10.1.1.3 timer keepalive 60 hold 180\n",
      "peer 10.1.1.3 connect-interface Ethernet1/0/0\n",
      "\n",
      "\n",
      "peer 10.1.1.4 as-number 65004\n",
      "peer 10.1.1.4 description Neighbor-AS65004\n",
      "peer 10.1.1.4 password cipher BgpNeighborPass456\n",
      "peer 10.1.1.4 ebgp-max-hop 4\n",
      "peer 10.1.1.4 timer keepalive 60 hold 180\n",
      "peer 10.1.1.4 connect-interface Ethernet1/0/0\n",
      "\n",
      "\n",
      "ipv4-family unicast\n",
      "network 192.168.1.0 255.255.255.0\n",
      "network 10.0.0.0 255.255.255.0\n",
      "network 172.16.0.0 255.255.0.0\n",
      "\n",
      "\n",
      "peer 10.1.1.2 enable\n",
      "peer 10.1.1.2 advertise-community\n",
      "\n",
      "\n",
      "peer 10.1.1.3 enable\n",
      "peer 10.1.1.3 advertise-community\n",
      "\n",
      "\n",
      "peer 10.1.1.4 enable\n",
      "\n",
      "\n",
      "mpls\n",
      "\n",
      "\n",
      "ip community-filter 1 permit 100:1\n",
      "ip community-filter 2 permit 200:1\n",
      "ip community-filter 3 permit 300:1\n",
      "ip community-filter 4 permit 65001:100\n",
      "ip community-filter 5 permit 65002:200\n",
      "\n",
      "\n",
      "ip ip-prefix prefix-list-1 index 10 permit 192.168.0.0 16\n",
      "ip ip-prefix prefix-list-2 index 20 permit 10.0.0.0 8 less-equal 24\n",
      "\n"
     ]
    }
   ],
   "source": [
    "for x in configs:\n",
    "    print(x)"
   ]
  },
  {
   "cell_type": "code",
   "execution_count": 8,
   "id": "aa28601c",
   "metadata": {},
   "outputs": [
    {
     "name": "stdout",
     "output_type": "stream",
     "text": [
      "['interface LoopBack0', 'ip address 1.1.1.1 32', 'quit', '']\n",
      "['', 'bgp 65001', 'router-id 1.1.1.1', '']\n",
      "['', 'peer 10.1.1.2 as-number 65002', 'peer 10.1.1.2 description Neighbor-AS65002', 'peer 10.1.1.2 password cipher BgpNeighborPass123', 'peer 10.1.1.2 ebgp-max-hop 2', 'peer 10.1.1.2 timer keepalive 30 hold 90', 'peer 10.1.1.2 connect-interface Ethernet1/0/0', '']\n",
      "['', 'peer 10.1.1.3 as-number 65003', 'peer 10.1.1.3 description Neighbor-AS65003', 'peer 10.1.1.3 password cipher BgpNeighborPass123', 'peer 10.1.1.3 ebgp-max-hop 3', 'peer 10.1.1.3 timer keepalive 60 hold 180', 'peer 10.1.1.3 connect-interface Ethernet1/0/0', '']\n",
      "['', 'peer 10.1.1.4 as-number 65004', 'peer 10.1.1.4 description Neighbor-AS65004', 'peer 10.1.1.4 password cipher BgpNeighborPass456', 'peer 10.1.1.4 ebgp-max-hop 4', 'peer 10.1.1.4 timer keepalive 60 hold 180', 'peer 10.1.1.4 connect-interface Ethernet1/0/0', '']\n",
      "['', 'ipv4-family unicast', 'network 192.168.1.0 255.255.255.0', 'network 10.0.0.0 255.255.255.0', 'network 172.16.0.0 255.255.0.0', '']\n",
      "['', 'peer 10.1.1.2 enable', 'peer 10.1.1.2 advertise-community', '']\n",
      "['', 'peer 10.1.1.3 enable', 'peer 10.1.1.3 advertise-community', '']\n",
      "['', 'peer 10.1.1.4 enable', '']\n",
      "['', 'mpls', '']\n",
      "['', 'ip community-filter 1 permit 100:1', 'ip community-filter 2 permit 200:1', 'ip community-filter 3 permit 300:1', 'ip community-filter 4 permit 65001:100', 'ip community-filter 5 permit 65002:200', '']\n",
      "['', 'ip ip-prefix prefix-list-1 index 10 permit 192.168.0.0 16', 'ip ip-prefix prefix-list-2 index 20 permit 10.0.0.0 8 less-equal 24', '']\n"
     ]
    }
   ],
   "source": [
    "data=[]\n",
    "for x in configs:\n",
    "    sub_config=x.split('\\n')\n",
    "    print(sub_config)"
   ]
  },
  {
   "cell_type": "code",
   "execution_count": 9,
   "id": "feb5f3be",
   "metadata": {},
   "outputs": [
    {
     "name": "stdout",
     "output_type": "stream",
     "text": [
      "['interface LoopBack0', 'ip address 1.1.1.1 32', 'quit']\n",
      "['bgp 65001', 'router-id 1.1.1.1']\n",
      "['peer 10.1.1.2 as-number 65002', 'peer 10.1.1.2 description Neighbor-AS65002', 'peer 10.1.1.2 password cipher BgpNeighborPass123', 'peer 10.1.1.2 ebgp-max-hop 2', 'peer 10.1.1.2 timer keepalive 30 hold 90', 'peer 10.1.1.2 connect-interface Ethernet1/0/0']\n",
      "['peer 10.1.1.3 as-number 65003', 'peer 10.1.1.3 description Neighbor-AS65003', 'peer 10.1.1.3 password cipher BgpNeighborPass123', 'peer 10.1.1.3 ebgp-max-hop 3', 'peer 10.1.1.3 timer keepalive 60 hold 180', 'peer 10.1.1.3 connect-interface Ethernet1/0/0']\n",
      "['peer 10.1.1.4 as-number 65004', 'peer 10.1.1.4 description Neighbor-AS65004', 'peer 10.1.1.4 password cipher BgpNeighborPass456', 'peer 10.1.1.4 ebgp-max-hop 4', 'peer 10.1.1.4 timer keepalive 60 hold 180', 'peer 10.1.1.4 connect-interface Ethernet1/0/0']\n",
      "['ipv4-family unicast', 'network 192.168.1.0 255.255.255.0', 'network 10.0.0.0 255.255.255.0', 'network 172.16.0.0 255.255.0.0']\n",
      "['peer 10.1.1.2 enable', 'peer 10.1.1.2 advertise-community']\n",
      "['peer 10.1.1.3 enable', 'peer 10.1.1.3 advertise-community']\n",
      "['peer 10.1.1.4 enable']\n",
      "['mpls']\n",
      "['ip community-filter 1 permit 100:1', 'ip community-filter 2 permit 200:1', 'ip community-filter 3 permit 300:1', 'ip community-filter 4 permit 65001:100', 'ip community-filter 5 permit 65002:200']\n",
      "['ip ip-prefix prefix-list-1 index 10 permit 192.168.0.0 16', 'ip ip-prefix prefix-list-2 index 20 permit 10.0.0.0 8 less-equal 24']\n"
     ]
    }
   ],
   "source": [
    "data=[]\n",
    "for x in configs:\n",
    "    sub_config=x.split('\\n')\n",
    "    while '' in sub_config:\n",
    "        sub_config.remove('')\n",
    "    print(sub_config)"
   ]
  },
  {
   "cell_type": "code",
   "execution_count": 10,
   "id": "6569be11",
   "metadata": {},
   "outputs": [
    {
     "data": {
      "text/plain": [
       "[['interface LoopBack0', 'ip address 1.1.1.1 32', 'quit'],\n",
       " ['bgp 65001', 'router-id 1.1.1.1'],\n",
       " ['peer 10.1.1.2 as-number 65002',\n",
       "  'peer 10.1.1.2 description Neighbor-AS65002',\n",
       "  'peer 10.1.1.2 password cipher BgpNeighborPass123',\n",
       "  'peer 10.1.1.2 ebgp-max-hop 2',\n",
       "  'peer 10.1.1.2 timer keepalive 30 hold 90',\n",
       "  'peer 10.1.1.2 connect-interface Ethernet1/0/0'],\n",
       " ['peer 10.1.1.3 as-number 65003',\n",
       "  'peer 10.1.1.3 description Neighbor-AS65003',\n",
       "  'peer 10.1.1.3 password cipher BgpNeighborPass123',\n",
       "  'peer 10.1.1.3 ebgp-max-hop 3',\n",
       "  'peer 10.1.1.3 timer keepalive 60 hold 180',\n",
       "  'peer 10.1.1.3 connect-interface Ethernet1/0/0'],\n",
       " ['peer 10.1.1.4 as-number 65004',\n",
       "  'peer 10.1.1.4 description Neighbor-AS65004',\n",
       "  'peer 10.1.1.4 password cipher BgpNeighborPass456',\n",
       "  'peer 10.1.1.4 ebgp-max-hop 4',\n",
       "  'peer 10.1.1.4 timer keepalive 60 hold 180',\n",
       "  'peer 10.1.1.4 connect-interface Ethernet1/0/0'],\n",
       " ['ipv4-family unicast',\n",
       "  'network 192.168.1.0 255.255.255.0',\n",
       "  'network 10.0.0.0 255.255.255.0',\n",
       "  'network 172.16.0.0 255.255.0.0'],\n",
       " ['peer 10.1.1.2 enable', 'peer 10.1.1.2 advertise-community'],\n",
       " ['peer 10.1.1.3 enable', 'peer 10.1.1.3 advertise-community'],\n",
       " ['peer 10.1.1.4 enable'],\n",
       " ['mpls'],\n",
       " ['ip community-filter 1 permit 100:1',\n",
       "  'ip community-filter 2 permit 200:1',\n",
       "  'ip community-filter 3 permit 300:1',\n",
       "  'ip community-filter 4 permit 65001:100',\n",
       "  'ip community-filter 5 permit 65002:200'],\n",
       " ['ip ip-prefix prefix-list-1 index 10 permit 192.168.0.0 16',\n",
       "  'ip ip-prefix prefix-list-2 index 20 permit 10.0.0.0 8 less-equal 24']]"
      ]
     },
     "execution_count": 10,
     "metadata": {},
     "output_type": "execute_result"
    }
   ],
   "source": [
    "data=[]\n",
    "for x in configs:\n",
    "    sub_config=x.split('\\n')\n",
    "    while '' in sub_config:\n",
    "        sub_config.remove('')\n",
    "    data.append(sub_config)\n",
    "\n",
    "data"
   ]
  },
  {
   "cell_type": "code",
   "execution_count": 1,
   "id": "7a2da217",
   "metadata": {},
   "outputs": [
    {
     "data": {
      "text/plain": [
       "[['interface LoopBack0', 'ip address 1.1.1.1 32', 'quit'],\n",
       " ['bgp 65001', 'router-id 1.1.1.1'],\n",
       " ['peer 10.1.1.2 as-number 65002',\n",
       "  'peer 10.1.1.2 description Neighbor-AS65002',\n",
       "  'peer 10.1.1.2 password cipher BgpNeighborPass123',\n",
       "  'peer 10.1.1.2 ebgp-max-hop 2',\n",
       "  'peer 10.1.1.2 timer keepalive 30 hold 90',\n",
       "  'peer 10.1.1.2 connect-interface Ethernet1/0/0'],\n",
       " ['peer 10.1.1.3 as-number 65003',\n",
       "  'peer 10.1.1.3 description Neighbor-AS65003',\n",
       "  'peer 10.1.1.3 password cipher BgpNeighborPass123',\n",
       "  'peer 10.1.1.3 ebgp-max-hop 3',\n",
       "  'peer 10.1.1.3 timer keepalive 60 hold 180',\n",
       "  'peer 10.1.1.3 connect-interface Ethernet1/0/0'],\n",
       " ['peer 10.1.1.4 as-number 65004',\n",
       "  'peer 10.1.1.4 description Neighbor-AS65004',\n",
       "  'peer 10.1.1.4 password cipher BgpNeighborPass456',\n",
       "  'peer 10.1.1.4 ebgp-max-hop 4',\n",
       "  'peer 10.1.1.4 timer keepalive 60 hold 180',\n",
       "  'peer 10.1.1.4 connect-interface Ethernet1/0/0'],\n",
       " ['ipv4-family unicast',\n",
       "  'network 192.168.1.0 255.255.255.0',\n",
       "  'network 10.0.0.0 255.255.255.0',\n",
       "  'network 172.16.0.0 255.255.0.0'],\n",
       " ['peer 10.1.1.2 enable', 'peer 10.1.1.2 advertise-community'],\n",
       " ['peer 10.1.1.3 enable', 'peer 10.1.1.3 advertise-community'],\n",
       " ['peer 10.1.1.4 enable'],\n",
       " ['mpls'],\n",
       " ['ip community-filter 1 permit 100:1',\n",
       "  'ip community-filter 2 permit 200:1',\n",
       "  'ip community-filter 3 permit 300:1',\n",
       "  'ip community-filter 4 permit 65001:100',\n",
       "  'ip community-filter 5 permit 65002:200'],\n",
       " ['ip ip-prefix prefix-list-1 index 10 permit 192.168.0.0 16',\n",
       "  'ip ip-prefix prefix-list-2 index 20 permit 10.0.0.0 8 less-equal 24']]"
      ]
     },
     "execution_count": 1,
     "metadata": {},
     "output_type": "execute_result"
    }
   ],
   "source": [
    "data=[['interface LoopBack0', 'ip address 1.1.1.1 32', 'quit'],\n",
    " ['bgp 65001', 'router-id 1.1.1.1'],\n",
    " ['peer 10.1.1.2 as-number 65002',\n",
    "  'peer 10.1.1.2 description Neighbor-AS65002',\n",
    "  'peer 10.1.1.2 password cipher BgpNeighborPass123',\n",
    "  'peer 10.1.1.2 ebgp-max-hop 2',\n",
    "  'peer 10.1.1.2 timer keepalive 30 hold 90',\n",
    "  'peer 10.1.1.2 connect-interface Ethernet1/0/0'],\n",
    " ['peer 10.1.1.3 as-number 65003',\n",
    "  'peer 10.1.1.3 description Neighbor-AS65003',\n",
    "  'peer 10.1.1.3 password cipher BgpNeighborPass123',\n",
    "  'peer 10.1.1.3 ebgp-max-hop 3',\n",
    "  'peer 10.1.1.3 timer keepalive 60 hold 180',\n",
    "  'peer 10.1.1.3 connect-interface Ethernet1/0/0'],\n",
    " ['peer 10.1.1.4 as-number 65004',\n",
    "  'peer 10.1.1.4 description Neighbor-AS65004',\n",
    "  'peer 10.1.1.4 password cipher BgpNeighborPass456',\n",
    "  'peer 10.1.1.4 ebgp-max-hop 4',\n",
    "  'peer 10.1.1.4 timer keepalive 60 hold 180',\n",
    "  'peer 10.1.1.4 connect-interface Ethernet1/0/0'],\n",
    " ['ipv4-family unicast',\n",
    "  'network 192.168.1.0 255.255.255.0',\n",
    "  'network 10.0.0.0 255.255.255.0',\n",
    "  'network 172.16.0.0 255.255.0.0'],\n",
    " ['peer 10.1.1.2 enable', 'peer 10.1.1.2 advertise-community'],\n",
    " ['peer 10.1.1.3 enable', 'peer 10.1.1.3 advertise-community'],\n",
    " ['peer 10.1.1.4 enable'],\n",
    " ['mpls'],\n",
    " ['ip community-filter 1 permit 100:1',\n",
    "  'ip community-filter 2 permit 200:1',\n",
    "  'ip community-filter 3 permit 300:1',\n",
    "  'ip community-filter 4 permit 65001:100',\n",
    "  'ip community-filter 5 permit 65002:200'],\n",
    " ['ip ip-prefix prefix-list-1 index 10 permit 192.168.0.0 16',\n",
    "  'ip ip-prefix prefix-list-2 index 20 permit 10.0.0.0 8 less-equal 24']]\n",
    "data"
   ]
  },
  {
   "cell_type": "code",
   "execution_count": null,
   "id": "596d1077",
   "metadata": {},
   "outputs": [],
   "source": []
  }
 ],
 "metadata": {
  "kernelspec": {
   "display_name": "Python 3 (ipykernel)",
   "language": "python",
   "name": "python3"
  },
  "language_info": {
   "codemirror_mode": {
    "name": "ipython",
    "version": 3
   },
   "file_extension": ".py",
   "mimetype": "text/x-python",
   "name": "python",
   "nbconvert_exporter": "python",
   "pygments_lexer": "ipython3",
   "version": "3.11.10"
  }
 },
 "nbformat": 4,
 "nbformat_minor": 5
}
