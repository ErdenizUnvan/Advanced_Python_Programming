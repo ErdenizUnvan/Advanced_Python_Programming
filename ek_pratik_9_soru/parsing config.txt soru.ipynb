{
 "cells": [
  {
   "cell_type": "code",
   "execution_count": null,
   "id": "8072e9dc",
   "metadata": {},
   "outputs": [],
   "source": [
    "#config.txt dosyasini asagidaki hale cevir"
   ]
  },
  {
   "cell_type": "code",
   "execution_count": null,
   "id": "7a2da217",
   "metadata": {},
   "outputs": [],
   "source": [
    "data=[['interface LoopBack0', 'ip address 1.1.1.1 32', 'quit'],\n",
    " ['bgp 65001', 'router-id 1.1.1.1'],\n",
    " ['peer 10.1.1.2 as-number 65002',\n",
    "  'peer 10.1.1.2 description Neighbor-AS65002',\n",
    "  'peer 10.1.1.2 password cipher BgpNeighborPass123',\n",
    "  'peer 10.1.1.2 ebgp-max-hop 2',\n",
    "  'peer 10.1.1.2 timer keepalive 30 hold 90',\n",
    "  'peer 10.1.1.2 connect-interface Ethernet1/0/0'],\n",
    " ['peer 10.1.1.3 as-number 65003',\n",
    "  'peer 10.1.1.3 description Neighbor-AS65003',\n",
    "  'peer 10.1.1.3 password cipher BgpNeighborPass123',\n",
    "  'peer 10.1.1.3 ebgp-max-hop 3',\n",
    "  'peer 10.1.1.3 timer keepalive 60 hold 180',\n",
    "  'peer 10.1.1.3 connect-interface Ethernet1/0/0'],\n",
    " ['peer 10.1.1.4 as-number 65004',\n",
    "  'peer 10.1.1.4 description Neighbor-AS65004',\n",
    "  'peer 10.1.1.4 password cipher BgpNeighborPass456',\n",
    "  'peer 10.1.1.4 ebgp-max-hop 4',\n",
    "  'peer 10.1.1.4 timer keepalive 60 hold 180',\n",
    "  'peer 10.1.1.4 connect-interface Ethernet1/0/0'],\n",
    " ['ipv4-family unicast',\n",
    "  'network 192.168.1.0 255.255.255.0',\n",
    "  'network 10.0.0.0 255.255.255.0',\n",
    "  'network 172.16.0.0 255.255.0.0'],\n",
    " ['peer 10.1.1.2 enable', 'peer 10.1.1.2 advertise-community'],\n",
    " ['peer 10.1.1.3 enable', 'peer 10.1.1.3 advertise-community'],\n",
    " ['peer 10.1.1.4 enable'],\n",
    " ['mpls'],\n",
    " ['ip community-filter 1 permit 100:1',\n",
    "  'ip community-filter 2 permit 200:1',\n",
    "  'ip community-filter 3 permit 300:1',\n",
    "  'ip community-filter 4 permit 65001:100',\n",
    "  'ip community-filter 5 permit 65002:200'],\n",
    " ['ip ip-prefix prefix-list-1 index 10 permit 192.168.0.0 16',\n",
    "  'ip ip-prefix prefix-list-2 index 20 permit 10.0.0.0 8 less-equal 24']]\n",
    "data"
   ]
  },
  {
   "cell_type": "code",
   "execution_count": null,
   "id": "596d1077",
   "metadata": {},
   "outputs": [],
   "source": []
  }
 ],
 "metadata": {
  "kernelspec": {
   "display_name": "Python 3 (ipykernel)",
   "language": "python",
   "name": "python3"
  },
  "language_info": {
   "codemirror_mode": {
    "name": "ipython",
    "version": 3
   },
   "file_extension": ".py",
   "mimetype": "text/x-python",
   "name": "python",
   "nbconvert_exporter": "python",
   "pygments_lexer": "ipython3",
   "version": "3.11.10"
  }
 },
 "nbformat": 4,
 "nbformat_minor": 5
}
